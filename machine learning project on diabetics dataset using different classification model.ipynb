{
 "cells": [
  {
   "cell_type": "code",
   "execution_count": 1,
   "id": "6fbaa978",
   "metadata": {},
   "outputs": [],
   "source": [
    "import pandas as pd\n",
    "import numpy as np\n",
    "import matplotlib.pyplot as plt\n",
    "import seaborn as sns\n",
    "from random import randint\n",
    "from sklearn.model_selection import train_test_split\n",
    "from sklearn.preprocessing import MinMaxScaler, StandardScaler\n",
    "from sklearn.linear_model import LogisticRegression\n",
    "from sklearn.neighbors import KNeighborsClassifier\n",
    "from sklearn.tree import DecisionTreeClassifier\n",
    "from sklearn.svm import SVC\n",
    "from sklearn.ensemble import RandomForestClassifier\n",
    "from sklearn.naive_bayes import GaussianNB\n",
    "from sklearn.ensemble import GradientBoostingClassifier\n",
    "from sklearn.metrics import confusion_matrix,accuracy_score,classification_report\n",
    "from sklearn.tree import plot_tree\n",
    "\n",
    "import warnings\n",
    "warnings.simplefilter('ignore')"
   ]
  },
  {
   "cell_type": "code",
   "execution_count": 2,
   "id": "16b1361a",
   "metadata": {},
   "outputs": [],
   "source": [
    "#Data collection and Analysis\n",
    "df=pd.read_csv('diabetes.csv')"
   ]
  },
  {
   "cell_type": "code",
   "execution_count": 2,
   "id": "18ae037e",
   "metadata": {},
   "outputs": [
    {
     "data": {
      "text/plain": [
       "1.0"
      ]
     },
     "execution_count": 2,
     "metadata": {},
     "output_type": "execute_result"
    }
   ],
   "source": []
  },
  {
   "cell_type": "code",
   "execution_count": 3,
   "id": "a5df83f4",
   "metadata": {},
   "outputs": [
    {
     "data": {
      "text/html": [
       "<div>\n",
       "<style scoped>\n",
       "    .dataframe tbody tr th:only-of-type {\n",
       "        vertical-align: middle;\n",
       "    }\n",
       "\n",
       "    .dataframe tbody tr th {\n",
       "        vertical-align: top;\n",
       "    }\n",
       "\n",
       "    .dataframe thead th {\n",
       "        text-align: right;\n",
       "    }\n",
       "</style>\n",
       "<table border=\"1\" class=\"dataframe\">\n",
       "  <thead>\n",
       "    <tr style=\"text-align: right;\">\n",
       "      <th></th>\n",
       "      <th>Pregnancies</th>\n",
       "      <th>Glucose</th>\n",
       "      <th>BloodPressure</th>\n",
       "      <th>SkinThickness</th>\n",
       "      <th>Insulin</th>\n",
       "      <th>BMI</th>\n",
       "      <th>DiabetesPedigreeFunction</th>\n",
       "      <th>Age</th>\n",
       "      <th>Outcome</th>\n",
       "    </tr>\n",
       "  </thead>\n",
       "  <tbody>\n",
       "    <tr>\n",
       "      <th>0</th>\n",
       "      <td>2</td>\n",
       "      <td>138</td>\n",
       "      <td>62</td>\n",
       "      <td>35</td>\n",
       "      <td>0</td>\n",
       "      <td>33.6</td>\n",
       "      <td>0.127</td>\n",
       "      <td>47</td>\n",
       "      <td>1</td>\n",
       "    </tr>\n",
       "    <tr>\n",
       "      <th>1</th>\n",
       "      <td>0</td>\n",
       "      <td>84</td>\n",
       "      <td>82</td>\n",
       "      <td>31</td>\n",
       "      <td>125</td>\n",
       "      <td>38.2</td>\n",
       "      <td>0.233</td>\n",
       "      <td>23</td>\n",
       "      <td>0</td>\n",
       "    </tr>\n",
       "    <tr>\n",
       "      <th>2</th>\n",
       "      <td>0</td>\n",
       "      <td>145</td>\n",
       "      <td>0</td>\n",
       "      <td>0</td>\n",
       "      <td>0</td>\n",
       "      <td>44.2</td>\n",
       "      <td>0.630</td>\n",
       "      <td>31</td>\n",
       "      <td>1</td>\n",
       "    </tr>\n",
       "    <tr>\n",
       "      <th>3</th>\n",
       "      <td>0</td>\n",
       "      <td>135</td>\n",
       "      <td>68</td>\n",
       "      <td>42</td>\n",
       "      <td>250</td>\n",
       "      <td>42.3</td>\n",
       "      <td>0.365</td>\n",
       "      <td>24</td>\n",
       "      <td>1</td>\n",
       "    </tr>\n",
       "    <tr>\n",
       "      <th>4</th>\n",
       "      <td>1</td>\n",
       "      <td>139</td>\n",
       "      <td>62</td>\n",
       "      <td>41</td>\n",
       "      <td>480</td>\n",
       "      <td>40.7</td>\n",
       "      <td>0.536</td>\n",
       "      <td>21</td>\n",
       "      <td>0</td>\n",
       "    </tr>\n",
       "  </tbody>\n",
       "</table>\n",
       "</div>"
      ],
      "text/plain": [
       "   Pregnancies  Glucose  BloodPressure  SkinThickness  Insulin   BMI  \\\n",
       "0            2      138             62             35        0  33.6   \n",
       "1            0       84             82             31      125  38.2   \n",
       "2            0      145              0              0        0  44.2   \n",
       "3            0      135             68             42      250  42.3   \n",
       "4            1      139             62             41      480  40.7   \n",
       "\n",
       "   DiabetesPedigreeFunction  Age  Outcome  \n",
       "0                     0.127   47        1  \n",
       "1                     0.233   23        0  \n",
       "2                     0.630   31        1  \n",
       "3                     0.365   24        1  \n",
       "4                     0.536   21        0  "
      ]
     },
     "execution_count": 3,
     "metadata": {},
     "output_type": "execute_result"
    }
   ],
   "source": [
    "df.head()       #x-x.mean/x-1=0             2-0.5/2"
   ]
  },
  {
   "cell_type": "code",
   "execution_count": null,
   "id": "daa315a3",
   "metadata": {},
   "outputs": [],
   "source": []
  },
  {
   "cell_type": "code",
   "execution_count": 4,
   "id": "9dac2760",
   "metadata": {},
   "outputs": [
    {
     "name": "stdout",
     "output_type": "stream",
     "text": [
      "<class 'pandas.core.frame.DataFrame'>\n",
      "RangeIndex: 2000 entries, 0 to 1999\n",
      "Data columns (total 9 columns):\n",
      " #   Column                    Non-Null Count  Dtype  \n",
      "---  ------                    --------------  -----  \n",
      " 0   Pregnancies               2000 non-null   int64  \n",
      " 1   Glucose                   2000 non-null   int64  \n",
      " 2   BloodPressure             2000 non-null   int64  \n",
      " 3   SkinThickness             2000 non-null   int64  \n",
      " 4   Insulin                   2000 non-null   int64  \n",
      " 5   BMI                       2000 non-null   float64\n",
      " 6   DiabetesPedigreeFunction  2000 non-null   float64\n",
      " 7   Age                       2000 non-null   int64  \n",
      " 8   Outcome                   2000 non-null   int64  \n",
      "dtypes: float64(2), int64(7)\n",
      "memory usage: 140.8 KB\n"
     ]
    }
   ],
   "source": [
    "df.info()"
   ]
  },
  {
   "cell_type": "code",
   "execution_count": 5,
   "id": "7eb379b0",
   "metadata": {},
   "outputs": [
    {
     "data": {
      "text/plain": [
       "(2000, 9)"
      ]
     },
     "execution_count": 5,
     "metadata": {},
     "output_type": "execute_result"
    }
   ],
   "source": [
    "# see the datashape\n",
    "df.shape"
   ]
  },
  {
   "cell_type": "code",
   "execution_count": 6,
   "id": "cc950d84",
   "metadata": {},
   "outputs": [
    {
     "data": {
      "text/plain": [
       "Index(['Pregnancies', 'Glucose', 'BloodPressure', 'SkinThickness', 'Insulin',\n",
       "       'BMI', 'DiabetesPedigreeFunction', 'Age', 'Outcome'],\n",
       "      dtype='object')"
      ]
     },
     "execution_count": 6,
     "metadata": {},
     "output_type": "execute_result"
    }
   ],
   "source": [
    "df.columns"
   ]
  },
  {
   "cell_type": "code",
   "execution_count": 7,
   "id": "006a79ca",
   "metadata": {},
   "outputs": [
    {
     "data": {
      "text/plain": [
       "Pregnancies                   int64\n",
       "Glucose                       int64\n",
       "BloodPressure                 int64\n",
       "SkinThickness                 int64\n",
       "Insulin                       int64\n",
       "BMI                         float64\n",
       "DiabetesPedigreeFunction    float64\n",
       "Age                           int64\n",
       "Outcome                       int64\n",
       "dtype: object"
      ]
     },
     "execution_count": 7,
     "metadata": {},
     "output_type": "execute_result"
    }
   ],
   "source": [
    "# see the datatypes\n",
    "df.dtypes"
   ]
  },
  {
   "cell_type": "code",
   "execution_count": null,
   "id": "c756755f",
   "metadata": {},
   "outputs": [],
   "source": []
  },
  {
   "cell_type": "markdown",
   "id": "0fd649ad",
   "metadata": {},
   "source": [
    "# Studying the Data"
   ]
  },
  {
   "cell_type": "code",
   "execution_count": 8,
   "id": "0927e48b",
   "metadata": {},
   "outputs": [
    {
     "data": {
      "text/html": [
       "<style type=\"text/css\">\n",
       "#T_b5532_row0_col0, #T_b5532_row0_col3, #T_b5532_row1_col0, #T_b5532_row1_col3, #T_b5532_row2_col0, #T_b5532_row2_col3, #T_b5532_row3_col0, #T_b5532_row3_col3, #T_b5532_row3_col4, #T_b5532_row4_col0, #T_b5532_row4_col3, #T_b5532_row4_col4, #T_b5532_row5_col0, #T_b5532_row5_col3, #T_b5532_row6_col0, #T_b5532_row6_col1, #T_b5532_row6_col2, #T_b5532_row6_col3, #T_b5532_row6_col4, #T_b5532_row6_col5, #T_b5532_row6_col6, #T_b5532_row6_col7, #T_b5532_row7_col0, #T_b5532_row8_col0, #T_b5532_row8_col1, #T_b5532_row8_col2, #T_b5532_row8_col3, #T_b5532_row8_col4, #T_b5532_row8_col5, #T_b5532_row8_col6, #T_b5532_row8_col7 {\n",
       "  background-color: #ffffff;\n",
       "  color: #000000;\n",
       "}\n",
       "#T_b5532_row0_col1 {\n",
       "  background-color: #ffffe3;\n",
       "  color: #000000;\n",
       "}\n",
       "#T_b5532_row0_col2, #T_b5532_row0_col5 {\n",
       "  background-color: #ffffe7;\n",
       "  color: #000000;\n",
       "}\n",
       "#T_b5532_row0_col4 {\n",
       "  background-color: #fffff7;\n",
       "  color: #000000;\n",
       "}\n",
       "#T_b5532_row0_col6 {\n",
       "  background-color: #ffffdc;\n",
       "  color: #000000;\n",
       "}\n",
       "#T_b5532_row0_col7 {\n",
       "  background-color: #ffffeb;\n",
       "  color: #000000;\n",
       "}\n",
       "#T_b5532_row1_col1, #T_b5532_row1_col4, #T_b5532_row1_col5, #T_b5532_row1_col6, #T_b5532_row4_col2, #T_b5532_row4_col7, #T_b5532_row7_col3 {\n",
       "  background-color: #0b0000;\n",
       "  color: #f1f1f1;\n",
       "}\n",
       "#T_b5532_row1_col2 {\n",
       "  background-color: #ffe900;\n",
       "  color: #000000;\n",
       "}\n",
       "#T_b5532_row1_col7 {\n",
       "  background-color: #fff600;\n",
       "  color: #000000;\n",
       "}\n",
       "#T_b5532_row2_col1 {\n",
       "  background-color: #ff2c00;\n",
       "  color: #f1f1f1;\n",
       "}\n",
       "#T_b5532_row2_col2, #T_b5532_row3_col1 {\n",
       "  background-color: #ffff56;\n",
       "  color: #000000;\n",
       "}\n",
       "#T_b5532_row2_col4 {\n",
       "  background-color: #f90000;\n",
       "  color: #f1f1f1;\n",
       "}\n",
       "#T_b5532_row2_col5 {\n",
       "  background-color: #ff0d00;\n",
       "  color: #f1f1f1;\n",
       "}\n",
       "#T_b5532_row2_col6 {\n",
       "  background-color: #ff2f00;\n",
       "  color: #f1f1f1;\n",
       "}\n",
       "#T_b5532_row2_col7 {\n",
       "  background-color: #ffff5e;\n",
       "  color: #000000;\n",
       "}\n",
       "#T_b5532_row3_col2 {\n",
       "  background-color: #ffff71;\n",
       "  color: #000000;\n",
       "}\n",
       "#T_b5532_row3_col5 {\n",
       "  background-color: #ffff3a;\n",
       "  color: #000000;\n",
       "}\n",
       "#T_b5532_row3_col6 {\n",
       "  background-color: #ffff1f;\n",
       "  color: #000000;\n",
       "}\n",
       "#T_b5532_row3_col7 {\n",
       "  background-color: #ffff6d;\n",
       "  color: #000000;\n",
       "}\n",
       "#T_b5532_row4_col1 {\n",
       "  background-color: #ec0000;\n",
       "  color: #f1f1f1;\n",
       "}\n",
       "#T_b5532_row4_col5 {\n",
       "  background-color: #ffc500;\n",
       "  color: #000000;\n",
       "}\n",
       "#T_b5532_row4_col6 {\n",
       "  background-color: #3f0000;\n",
       "  color: #f1f1f1;\n",
       "}\n",
       "#T_b5532_row5_col1 {\n",
       "  background-color: #fff900;\n",
       "  color: #000000;\n",
       "}\n",
       "#T_b5532_row5_col2 {\n",
       "  background-color: #ffffb8;\n",
       "  color: #000000;\n",
       "}\n",
       "#T_b5532_row5_col4, #T_b5532_row5_col5 {\n",
       "  background-color: #fff100;\n",
       "  color: #000000;\n",
       "}\n",
       "#T_b5532_row5_col6 {\n",
       "  background-color: #fffe00;\n",
       "  color: #000000;\n",
       "}\n",
       "#T_b5532_row5_col7, #T_b5532_row7_col7 {\n",
       "  background-color: #ffff95;\n",
       "  color: #000000;\n",
       "}\n",
       "#T_b5532_row7_col1 {\n",
       "  background-color: #fff400;\n",
       "  color: #000000;\n",
       "}\n",
       "#T_b5532_row7_col2 {\n",
       "  background-color: #ffff99;\n",
       "  color: #000000;\n",
       "}\n",
       "#T_b5532_row7_col4 {\n",
       "  background-color: #ffff0b;\n",
       "  color: #000000;\n",
       "}\n",
       "#T_b5532_row7_col5 {\n",
       "  background-color: #ffff07;\n",
       "  color: #000000;\n",
       "}\n",
       "#T_b5532_row7_col6 {\n",
       "  background-color: #ffef00;\n",
       "  color: #000000;\n",
       "}\n",
       "</style>\n",
       "<table id=\"T_b5532_\">\n",
       "  <thead>\n",
       "    <tr>\n",
       "      <th class=\"blank level0\" >&nbsp;</th>\n",
       "      <th class=\"col_heading level0 col0\" >count</th>\n",
       "      <th class=\"col_heading level0 col1\" >mean</th>\n",
       "      <th class=\"col_heading level0 col2\" >std</th>\n",
       "      <th class=\"col_heading level0 col3\" >min</th>\n",
       "      <th class=\"col_heading level0 col4\" >25%</th>\n",
       "      <th class=\"col_heading level0 col5\" >50%</th>\n",
       "      <th class=\"col_heading level0 col6\" >75%</th>\n",
       "      <th class=\"col_heading level0 col7\" >max</th>\n",
       "    </tr>\n",
       "  </thead>\n",
       "  <tbody>\n",
       "    <tr>\n",
       "      <th id=\"T_b5532_level0_row0\" class=\"row_heading level0 row0\" >Pregnancies</th>\n",
       "      <td id=\"T_b5532_row0_col0\" class=\"data row0 col0\" >2000.000000</td>\n",
       "      <td id=\"T_b5532_row0_col1\" class=\"data row0 col1\" >3.703500</td>\n",
       "      <td id=\"T_b5532_row0_col2\" class=\"data row0 col2\" >3.306063</td>\n",
       "      <td id=\"T_b5532_row0_col3\" class=\"data row0 col3\" >0.000000</td>\n",
       "      <td id=\"T_b5532_row0_col4\" class=\"data row0 col4\" >1.000000</td>\n",
       "      <td id=\"T_b5532_row0_col5\" class=\"data row0 col5\" >3.000000</td>\n",
       "      <td id=\"T_b5532_row0_col6\" class=\"data row0 col6\" >6.000000</td>\n",
       "      <td id=\"T_b5532_row0_col7\" class=\"data row0 col7\" >17.000000</td>\n",
       "    </tr>\n",
       "    <tr>\n",
       "      <th id=\"T_b5532_level0_row1\" class=\"row_heading level0 row1\" >Glucose</th>\n",
       "      <td id=\"T_b5532_row1_col0\" class=\"data row1 col0\" >2000.000000</td>\n",
       "      <td id=\"T_b5532_row1_col1\" class=\"data row1 col1\" >121.182500</td>\n",
       "      <td id=\"T_b5532_row1_col2\" class=\"data row1 col2\" >32.068636</td>\n",
       "      <td id=\"T_b5532_row1_col3\" class=\"data row1 col3\" >0.000000</td>\n",
       "      <td id=\"T_b5532_row1_col4\" class=\"data row1 col4\" >99.000000</td>\n",
       "      <td id=\"T_b5532_row1_col5\" class=\"data row1 col5\" >117.000000</td>\n",
       "      <td id=\"T_b5532_row1_col6\" class=\"data row1 col6\" >141.000000</td>\n",
       "      <td id=\"T_b5532_row1_col7\" class=\"data row1 col7\" >199.000000</td>\n",
       "    </tr>\n",
       "    <tr>\n",
       "      <th id=\"T_b5532_level0_row2\" class=\"row_heading level0 row2\" >BloodPressure</th>\n",
       "      <td id=\"T_b5532_row2_col0\" class=\"data row2 col0\" >2000.000000</td>\n",
       "      <td id=\"T_b5532_row2_col1\" class=\"data row2 col1\" >69.145500</td>\n",
       "      <td id=\"T_b5532_row2_col2\" class=\"data row2 col2\" >19.188315</td>\n",
       "      <td id=\"T_b5532_row2_col3\" class=\"data row2 col3\" >0.000000</td>\n",
       "      <td id=\"T_b5532_row2_col4\" class=\"data row2 col4\" >63.500000</td>\n",
       "      <td id=\"T_b5532_row2_col5\" class=\"data row2 col5\" >72.000000</td>\n",
       "      <td id=\"T_b5532_row2_col6\" class=\"data row2 col6\" >80.000000</td>\n",
       "      <td id=\"T_b5532_row2_col7\" class=\"data row2 col7\" >122.000000</td>\n",
       "    </tr>\n",
       "    <tr>\n",
       "      <th id=\"T_b5532_level0_row3\" class=\"row_heading level0 row3\" >SkinThickness</th>\n",
       "      <td id=\"T_b5532_row3_col0\" class=\"data row3 col0\" >2000.000000</td>\n",
       "      <td id=\"T_b5532_row3_col1\" class=\"data row3 col1\" >20.935000</td>\n",
       "      <td id=\"T_b5532_row3_col2\" class=\"data row3 col2\" >16.103243</td>\n",
       "      <td id=\"T_b5532_row3_col3\" class=\"data row3 col3\" >0.000000</td>\n",
       "      <td id=\"T_b5532_row3_col4\" class=\"data row3 col4\" >0.000000</td>\n",
       "      <td id=\"T_b5532_row3_col5\" class=\"data row3 col5\" >23.000000</td>\n",
       "      <td id=\"T_b5532_row3_col6\" class=\"data row3 col6\" >32.000000</td>\n",
       "      <td id=\"T_b5532_row3_col7\" class=\"data row3 col7\" >110.000000</td>\n",
       "    </tr>\n",
       "    <tr>\n",
       "      <th id=\"T_b5532_level0_row4\" class=\"row_heading level0 row4\" >Insulin</th>\n",
       "      <td id=\"T_b5532_row4_col0\" class=\"data row4 col0\" >2000.000000</td>\n",
       "      <td id=\"T_b5532_row4_col1\" class=\"data row4 col1\" >80.254000</td>\n",
       "      <td id=\"T_b5532_row4_col2\" class=\"data row4 col2\" >111.180534</td>\n",
       "      <td id=\"T_b5532_row4_col3\" class=\"data row4 col3\" >0.000000</td>\n",
       "      <td id=\"T_b5532_row4_col4\" class=\"data row4 col4\" >0.000000</td>\n",
       "      <td id=\"T_b5532_row4_col5\" class=\"data row4 col5\" >40.000000</td>\n",
       "      <td id=\"T_b5532_row4_col6\" class=\"data row4 col6\" >130.000000</td>\n",
       "      <td id=\"T_b5532_row4_col7\" class=\"data row4 col7\" >744.000000</td>\n",
       "    </tr>\n",
       "    <tr>\n",
       "      <th id=\"T_b5532_level0_row5\" class=\"row_heading level0 row5\" >BMI</th>\n",
       "      <td id=\"T_b5532_row5_col0\" class=\"data row5 col0\" >2000.000000</td>\n",
       "      <td id=\"T_b5532_row5_col1\" class=\"data row5 col1\" >32.193000</td>\n",
       "      <td id=\"T_b5532_row5_col2\" class=\"data row5 col2\" >8.149901</td>\n",
       "      <td id=\"T_b5532_row5_col3\" class=\"data row5 col3\" >0.000000</td>\n",
       "      <td id=\"T_b5532_row5_col4\" class=\"data row5 col4\" >27.375000</td>\n",
       "      <td id=\"T_b5532_row5_col5\" class=\"data row5 col5\" >32.300000</td>\n",
       "      <td id=\"T_b5532_row5_col6\" class=\"data row5 col6\" >36.800000</td>\n",
       "      <td id=\"T_b5532_row5_col7\" class=\"data row5 col7\" >80.600000</td>\n",
       "    </tr>\n",
       "    <tr>\n",
       "      <th id=\"T_b5532_level0_row6\" class=\"row_heading level0 row6\" >DiabetesPedigreeFunction</th>\n",
       "      <td id=\"T_b5532_row6_col0\" class=\"data row6 col0\" >2000.000000</td>\n",
       "      <td id=\"T_b5532_row6_col1\" class=\"data row6 col1\" >0.470930</td>\n",
       "      <td id=\"T_b5532_row6_col2\" class=\"data row6 col2\" >0.323553</td>\n",
       "      <td id=\"T_b5532_row6_col3\" class=\"data row6 col3\" >0.078000</td>\n",
       "      <td id=\"T_b5532_row6_col4\" class=\"data row6 col4\" >0.244000</td>\n",
       "      <td id=\"T_b5532_row6_col5\" class=\"data row6 col5\" >0.376000</td>\n",
       "      <td id=\"T_b5532_row6_col6\" class=\"data row6 col6\" >0.624000</td>\n",
       "      <td id=\"T_b5532_row6_col7\" class=\"data row6 col7\" >2.420000</td>\n",
       "    </tr>\n",
       "    <tr>\n",
       "      <th id=\"T_b5532_level0_row7\" class=\"row_heading level0 row7\" >Age</th>\n",
       "      <td id=\"T_b5532_row7_col0\" class=\"data row7 col0\" >2000.000000</td>\n",
       "      <td id=\"T_b5532_row7_col1\" class=\"data row7 col1\" >33.090500</td>\n",
       "      <td id=\"T_b5532_row7_col2\" class=\"data row7 col2\" >11.786423</td>\n",
       "      <td id=\"T_b5532_row7_col3\" class=\"data row7 col3\" >21.000000</td>\n",
       "      <td id=\"T_b5532_row7_col4\" class=\"data row7 col4\" >24.000000</td>\n",
       "      <td id=\"T_b5532_row7_col5\" class=\"data row7 col5\" >29.000000</td>\n",
       "      <td id=\"T_b5532_row7_col6\" class=\"data row7 col6\" >40.000000</td>\n",
       "      <td id=\"T_b5532_row7_col7\" class=\"data row7 col7\" >81.000000</td>\n",
       "    </tr>\n",
       "    <tr>\n",
       "      <th id=\"T_b5532_level0_row8\" class=\"row_heading level0 row8\" >Outcome</th>\n",
       "      <td id=\"T_b5532_row8_col0\" class=\"data row8 col0\" >2000.000000</td>\n",
       "      <td id=\"T_b5532_row8_col1\" class=\"data row8 col1\" >0.342000</td>\n",
       "      <td id=\"T_b5532_row8_col2\" class=\"data row8 col2\" >0.474498</td>\n",
       "      <td id=\"T_b5532_row8_col3\" class=\"data row8 col3\" >0.000000</td>\n",
       "      <td id=\"T_b5532_row8_col4\" class=\"data row8 col4\" >0.000000</td>\n",
       "      <td id=\"T_b5532_row8_col5\" class=\"data row8 col5\" >0.000000</td>\n",
       "      <td id=\"T_b5532_row8_col6\" class=\"data row8 col6\" >1.000000</td>\n",
       "      <td id=\"T_b5532_row8_col7\" class=\"data row8 col7\" >1.000000</td>\n",
       "    </tr>\n",
       "  </tbody>\n",
       "</table>\n"
      ],
      "text/plain": [
       "<pandas.io.formats.style.Styler at 0x27e3f77a9d0>"
      ]
     },
     "execution_count": 8,
     "metadata": {},
     "output_type": "execute_result"
    }
   ],
   "source": [
    "df.describe().T.style.background_gradient(cmap='hot_r')"
   ]
  },
  {
   "cell_type": "code",
   "execution_count": 9,
   "id": "841b6b87",
   "metadata": {},
   "outputs": [
    {
     "data": {
      "text/plain": [
       "Pregnancies                 0\n",
       "Glucose                     0\n",
       "BloodPressure               0\n",
       "SkinThickness               0\n",
       "Insulin                     0\n",
       "BMI                         0\n",
       "DiabetesPedigreeFunction    0\n",
       "Age                         0\n",
       "Outcome                     0\n",
       "dtype: int64"
      ]
     },
     "execution_count": 9,
     "metadata": {},
     "output_type": "execute_result"
    }
   ],
   "source": [
    "# Check the missing value\n",
    "df.isnull().sum()"
   ]
  },
  {
   "cell_type": "code",
   "execution_count": 10,
   "id": "56815f56",
   "metadata": {},
   "outputs": [
    {
     "data": {
      "text/plain": [
       "count    2000.000000\n",
       "mean        3.703500\n",
       "std         3.306063\n",
       "min         0.000000\n",
       "25%         1.000000\n",
       "50%         3.000000\n",
       "75%         6.000000\n",
       "max        17.000000\n",
       "Name: Pregnancies, dtype: float64"
      ]
     },
     "execution_count": 10,
     "metadata": {},
     "output_type": "execute_result"
    }
   ],
   "source": [
    "df.Pregnancies.describe()"
   ]
  },
  {
   "cell_type": "raw",
   "id": "4d15766c",
   "metadata": {},
   "source": [
    "# categorical=df[['Pregnancies', 'Glucose', 'BloodPressure', 'SkinThickness', 'Insulin',\n",
    "       'BMI', 'DiabetesPedigreeFunction', 'Age',]]\n",
    "plt.figure(figsize=(8,35))\n",
    "for i in range(len(categorical.columns)):\n",
    "    plt.subplot(9,1,i+1)\n",
    "    sns.distplot(categorical[categorical.columns[i]])\n",
    "    plt.title(categorical.columns[i])\n",
    "plt.tight_layout()\n",
    "   "
   ]
  },
  {
   "cell_type": "code",
   "execution_count": null,
   "id": "eef8b7cf",
   "metadata": {},
   "outputs": [],
   "source": []
  },
  {
   "cell_type": "code",
   "execution_count": 11,
   "id": "efe09ab1",
   "metadata": {},
   "outputs": [],
   "source": [
    "\n",
    "cols = df.columns\n",
    "color= ['Blue',\"Green\",\"Red\",\"Black\"]"
   ]
  },
  {
   "cell_type": "code",
   "execution_count": 12,
   "id": "9f7a635d",
   "metadata": {},
   "outputs": [
    {
     "data": {
      "image/png": "[encoded data removed]",
      "text/plain": [
       "<Figure size 432x288 with 1 Axes>"
      ]
     },
     "metadata": {
      "needs_background": "light"
     },
     "output_type": "display_data"
    }
   ],
   "source": [
    "plt.title(f'{cols[0]} Distribution')\n",
    "sns.distplot(df[cols[0]])\n",
    "plt.xticks(ticks=df[cols[0]].unique())\n",
    "\n",
    "plt.show()\n",
    "# sns.distplot(df[cols[0]])"
   ]
  },
  {
   "cell_type": "code",
   "execution_count": 13,
   "id": "66857a30",
   "metadata": {},
   "outputs": [
    {
     "data": {
      "text/plain": [
       "<AxesSubplot:title={'center':'Glucose Distribution'}, xlabel='Glucose', ylabel='Density'>"
      ]
     },
     "execution_count": 13,
     "metadata": {},
     "output_type": "execute_result"
    },
    {
     "data": {
      "image/png": "[encoded data removed]",
      "text/plain": [
       "<Figure size 432x288 with 1 Axes>"
      ]
     },
     "metadata": {
      "needs_background": "light"
     },
     "output_type": "display_data"
    }
   ],
   "source": [
    "plt.title(f'{cols[1]} Distribution')\n",
    "sns.distplot(df[cols[1]])\n",
    "# sns.histplot(data=df, x=df[cols[1]])\n"
   ]
  },
  {
   "cell_type": "code",
   "execution_count": 14,
   "id": "63d966ca",
   "metadata": {},
   "outputs": [
    {
     "data": {
      "text/plain": [
       "<AxesSubplot:title={'center':'BloodPressure Distribution'}, xlabel='BloodPressure', ylabel='Count'>"
      ]
     },
     "execution_count": 14,
     "metadata": {},
     "output_type": "execute_result"
    },
    {
     "data": {
      "image/png": "[encoded data removed]",
      "text/plain": [
       "<Figure size 432x288 with 1 Axes>"
      ]
     },
     "metadata": {
      "needs_background": "light"
     },
     "output_type": "display_data"
    }
   ],
   "source": [
    "plt.title(f'{cols[2]} Distribution')\n",
    "#sns.distplot(df[cols[2]])\n",
    "sns.histplot(data=df, x=df[cols[2]])\n",
    "\n",
    "# df[cols[2]].plot.density(color='Blue')\n",
    "\n"
   ]
  },
  {
   "cell_type": "code",
   "execution_count": 15,
   "id": "5ea51d4c",
   "metadata": {},
   "outputs": [
    {
     "data": {
      "text/plain": [
       "<AxesSubplot:title={'center':'SkinThickness Distribution'}, xlabel='SkinThickness', ylabel='Density'>"
      ]
     },
     "execution_count": 15,
     "metadata": {},
     "output_type": "execute_result"
    },
    {
     "data": {
      "image/png": "[encoded data removed]",
      "text/plain": [
       "<Figure size 432x288 with 1 Axes>"
      ]
     },
     "metadata": {
      "needs_background": "light"
     },
     "output_type": "display_data"
    }
   ],
   "source": [
    "plt.title(f'{cols[3]} Distribution')\n",
    "sns.distplot(df[cols[3]])\n",
    "# sns.histplot(data=df, x=df[cols[3]])\n",
    "#df[cols[3]].plot.density(color='Blue')\n"
   ]
  },
  {
   "cell_type": "code",
   "execution_count": 16,
   "id": "e75842b8",
   "metadata": {},
   "outputs": [
    {
     "data": {
      "text/plain": [
       "<AxesSubplot:title={'center':'Insulin Distribution'}, xlabel='Insulin', ylabel='Density'>"
      ]
     },
     "execution_count": 16,
     "metadata": {},
     "output_type": "execute_result"
    },
    {
     "data": {
      "image/png": "[encoded data removed]",
      "text/plain": [
       "<Figure size 432x288 with 1 Axes>"
      ]
     },
     "metadata": {
      "needs_background": "light"
     },
     "output_type": "display_data"
    }
   ],
   "source": [
    "plt.title(f'{cols[4]} Distribution')\n",
    "sns.distplot(df[cols[4]])\n",
    "# sns.histplot(data=df, x=df[cols[4]])\n",
    "# df[cols[4]].plot.density(color='Blue')\n",
    "\n"
   ]
  },
  {
   "cell_type": "code",
   "execution_count": 17,
   "id": "afab92f0",
   "metadata": {},
   "outputs": [
    {
     "data": {
      "image/png": "[encoded data removed]",
      "text/plain": [
       "<Figure size 432x288 with 1 Axes>"
      ]
     },
     "metadata": {
      "needs_background": "light"
     },
     "output_type": "display_data"
    }
   ],
   "source": [
    "plt.title(f'{cols[5]} Distribution')\n",
    "#sns.distplot(df[cols[5]])\n",
    "sns.histplot(data=df, x=df[cols[5]])\n",
    "#df[cols[5]].plot.density(color='r')\n",
    "plt.show()"
   ]
  },
  {
   "cell_type": "code",
   "execution_count": 18,
   "id": "0c648cd8",
   "metadata": {},
   "outputs": [
    {
     "data": {
      "text/plain": [
       "<AxesSubplot:title={'center':'DiabetesPedigreeFunction Distribution'}, xlabel='DiabetesPedigreeFunction', ylabel='Density'>"
      ]
     },
     "execution_count": 18,
     "metadata": {},
     "output_type": "execute_result"
    },
    {
     "data": {
      "image/png": "[encoded data removed]",
      "text/plain": [
       "<Figure size 432x288 with 1 Axes>"
      ]
     },
     "metadata": {
      "needs_background": "light"
     },
     "output_type": "display_data"
    }
   ],
   "source": [
    "plt.title(f'{cols[6]} Distribution')\n",
    "sns.distplot(df[cols[6]])\n",
    "# sns.histplot(data=df, x=df[cols[6]])\n",
    "#df[cols[6]].plot.density(color='g')"
   ]
  },
  {
   "cell_type": "code",
   "execution_count": 19,
   "id": "905fb9a6",
   "metadata": {},
   "outputs": [
    {
     "data": {
      "text/plain": [
       "<AxesSubplot:title={'center':'Age Distribution'}, xlabel='Age', ylabel='Density'>"
      ]
     },
     "execution_count": 19,
     "metadata": {},
     "output_type": "execute_result"
    },
    {
     "data": {
      "image/png": "[encoded data removed]",
      "text/plain": [
       "<Figure size 432x288 with 1 Axes>"
      ]
     },
     "metadata": {
      "needs_background": "light"
     },
     "output_type": "display_data"
    }
   ],
   "source": [
    "plt.title(f'{cols[7]} Distribution')\n",
    "sns.distplot(df[cols[7]])\n",
    "# sns.histplot(data=df, x=df[cols[7]])\n",
    "# df[cols[7]].plot.density(color='Blue')\n"
   ]
  },
  {
   "cell_type": "code",
   "execution_count": 20,
   "id": "8cf89d6d",
   "metadata": {},
   "outputs": [
    {
     "data": {
      "text/plain": [
       "<AxesSubplot:xlabel='Age', ylabel='count'>"
      ]
     },
     "execution_count": 20,
     "metadata": {},
     "output_type": "execute_result"
    },
    {
     "data": {
      "image/png": "[encoded data removed]",
      "text/plain": [
       "<Figure size 2520x576 with 1 Axes>"
      ]
     },
     "metadata": {
      "needs_background": "light"
     },
     "output_type": "display_data"
    }
   ],
   "source": [
    "plt.figure(figsize=(35,8))\n",
    "sns.set_theme(style=\"darkgrid\")\n",
    "sns.countplot(df['Age'])"
   ]
  },
  {
   "cell_type": "code",
   "execution_count": 21,
   "id": "d5e6143d",
   "metadata": {},
   "outputs": [
    {
     "data": {
      "text/plain": [
       "count    2000.000000\n",
       "mean       33.090500\n",
       "std        11.786423\n",
       "min        21.000000\n",
       "25%        24.000000\n",
       "50%        29.000000\n",
       "75%        40.000000\n",
       "max        81.000000\n",
       "Name: Age, dtype: float64"
      ]
     },
     "execution_count": 21,
     "metadata": {},
     "output_type": "execute_result"
    }
   ],
   "source": [
    "df.Age.describe()"
   ]
  },
  {
   "cell_type": "markdown",
   "id": "7c815c4d",
   "metadata": {},
   "source": [
    "# Observations\n",
    "\n",
    "* The dataset contains more younger people.\n",
    "*The BMI of Majority of people is between 30-40 which means that majority of the people are have obesity.\n",
    "*Majority of People having insuling less than 200\n",
    "*Majority of people having Skinthickness between 20-40\n",
    "*Majority of People having BP between 60-80"
   ]
  },
  {
   "cell_type": "code",
   "execution_count": 22,
   "id": "39139baf",
   "metadata": {},
   "outputs": [
    {
     "data": {
      "image/png": "[encoded data removed]",
      "text/plain": [
       "<Figure size 1440x1440 with 8 Axes>"
      ]
     },
     "metadata": {},
     "output_type": "display_data"
    }
   ],
   "source": [
    "sns.set_theme(style='dark')\n",
    "fig, axes = plt.subplots(4,2,figsize=(20,20))\n",
    "i = 0     # row\n",
    "j = 0     # column\n",
    "for col in cols[:-1]:\n",
    "    sns.boxplot(x=df[col],ax=axes[i][j])\n",
    "    plt.xticks(ticks=df[col].unique())\n",
    "    \n",
    "    j = j + 1\n",
    "    \n",
    "    if j >= 2:\n",
    "        j = 0\n",
    "        if i < 3:\n",
    "            i = i + 1"
   ]
  },
  {
   "cell_type": "code",
   "execution_count": 23,
   "id": "0b7ab89a",
   "metadata": {},
   "outputs": [
    {
     "data": {
      "text/plain": [
       "Pregnancies                   int64\n",
       "Glucose                       int64\n",
       "BloodPressure                 int64\n",
       "SkinThickness                 int64\n",
       "Insulin                       int64\n",
       "BMI                         float64\n",
       "DiabetesPedigreeFunction    float64\n",
       "Age                           int64\n",
       "Outcome                       int64\n",
       "dtype: object"
      ]
     },
     "execution_count": 23,
     "metadata": {},
     "output_type": "execute_result"
    }
   ],
   "source": [
    "df.dtypes"
   ]
  },
  {
   "cell_type": "code",
   "execution_count": null,
   "id": "146151b3",
   "metadata": {},
   "outputs": [],
   "source": []
  },
  {
   "cell_type": "code",
   "execution_count": 24,
   "id": "22dbe83b",
   "metadata": {},
   "outputs": [],
   "source": [
    "def detect_outliers(column):\n",
    "    Q1=df[column].quantile(0.25)\n",
    "    Q3=df[column].quantile(0.75)\n",
    "    IQR=Q3-Q1\n",
    "    \n",
    "    return df[column][(df[column]<(Q1-1.5*IQR)) | (df[column]>(Q3+1.5*IQR))]\n",
    "\n",
    "\n",
    "    \n"
   ]
  },
  {
   "cell_type": "code",
   "execution_count": 25,
   "id": "7eee9cb4",
   "metadata": {},
   "outputs": [],
   "source": [
    "def replace_outlier_with_mean(column,outliers):\n",
    "    df[column]=np.where(df[column].isin(outliers),df[column].mean(),df[column])\n",
    "    return df[column]"
   ]
  },
  {
   "cell_type": "code",
   "execution_count": 26,
   "id": "70435d25",
   "metadata": {},
   "outputs": [
    {
     "data": {
      "text/plain": [
       "Index(['Pregnancies', 'Glucose', 'BloodPressure', 'SkinThickness', 'Insulin',\n",
       "       'BMI', 'DiabetesPedigreeFunction', 'Age', 'Outcome'],\n",
       "      dtype='object')"
      ]
     },
     "execution_count": 26,
     "metadata": {},
     "output_type": "execute_result"
    }
   ],
   "source": [
    "df.columns"
   ]
  },
  {
   "cell_type": "code",
   "execution_count": 105,
   "id": "dabdcd44",
   "metadata": {},
   "outputs": [],
   "source": [
    "Pregnancies_outliers=detect_outliers(cols[0])\n",
    "Glucose_outliers = detect_outliers(cols[1])\n",
    "BloodPressure_outliers = detect_outliers(cols[2])\n",
    "SkinThickness_outliers=detect_outliers(cols[3])\n",
    "Insulin_outliers=detect_outliers(cols[4])\n",
    "BMI_outliers = detect_outliers(cols[5])\n",
    "DiabetesPedigreeFunction_outliers = detect_outliers(cols[6])\n",
    "Age_outliers=detect_outliers(cols[7])\n",
    "Outcome_outliers=detect_outliers(cols[8])\n",
    "\n",
    "\n",
    "outliers=[Pregnancies_outliers,\n",
    "         Glucose_outliers,\n",
    "         BloodPressure_outliers,\n",
    "         SkinThickness_outliers,\n",
    "         Insulin_outliers,\n",
    "         BMI_outliers,\n",
    "         DiabetesPedigreeFunction_outliers,\n",
    "         Age_outliers,\n",
    "         Outcome_outliers]"
   ]
  },
  {
   "cell_type": "code",
   "execution_count": null,
   "id": "4397ad58",
   "metadata": {},
   "outputs": [],
   "source": []
  },
  {
   "cell_type": "code",
   "execution_count": 106,
   "id": "2a6e2074",
   "metadata": {},
   "outputs": [],
   "source": [
    "for i, col in enumerate(cols[:]):\n",
    "    df[col] = replace_outlier_with_mean(col,outliers[i])\n"
   ]
  },
  {
   "cell_type": "raw",
   "id": "d02fc07e",
   "metadata": {},
   "source": [
    "for col in cols[:-1]:\n",
    "    print(f\"{col}:\\t {detect_outliers(col)}\")"
   ]
  },
  {
   "cell_type": "raw",
   "id": "6a83aa31",
   "metadata": {},
   "source": [
    "def process(data):\n",
    "    data['col_name']=data['col_name'].apply(lambda x: str(x).replace(',',''))\n",
    "    data[''].data[''].astype('float')\n",
    "process(dataframe)"
   ]
  },
  {
   "cell_type": "code",
   "execution_count": null,
   "id": "cccaa2c8",
   "metadata": {},
   "outputs": [],
   "source": []
  },
  {
   "cell_type": "code",
   "execution_count": null,
   "id": "71b389f3",
   "metadata": {},
   "outputs": [],
   "source": []
  },
  {
   "cell_type": "code",
   "execution_count": 108,
   "id": "9e71febe",
   "metadata": {},
   "outputs": [
    {
     "data": {
      "image/png": "[encoded data removed]",
      "text/plain": [
       "<Figure size 1440x1440 with 8 Axes>"
      ]
     },
     "metadata": {},
     "output_type": "display_data"
    }
   ],
   "source": [
    "def make_figures():\n",
    "    fig, axes = plt.subplots(4,2,figsize=(20,20))\n",
    "    i = 0\n",
    "    j = 0\n",
    "    for col in cols[:-1]:\n",
    "        sns.boxplot(x=df[col],ax=axes[i][j])\n",
    "        plt.xticks(ticks=df[col].unique())\n",
    "    \n",
    "        j = j + 1\n",
    "    \n",
    "        if j >= 2:\n",
    "            j = 0\n",
    "            if i < 3:\n",
    "                i = i + 1\n",
    "        \n",
    "        \n",
    "make_figures()"
   ]
  },
  {
   "cell_type": "code",
   "execution_count": 31,
   "id": "de9e6242",
   "metadata": {},
   "outputs": [
    {
     "data": {
      "text/html": [
       "<style type=\"text/css\">\n",
       "#T_a1f53_row0_col0, #T_a1f53_row0_col3, #T_a1f53_row1_col0, #T_a1f53_row2_col0, #T_a1f53_row3_col0, #T_a1f53_row3_col3, #T_a1f53_row3_col4, #T_a1f53_row4_col0, #T_a1f53_row4_col3, #T_a1f53_row4_col4, #T_a1f53_row5_col0, #T_a1f53_row6_col0, #T_a1f53_row6_col1, #T_a1f53_row6_col2, #T_a1f53_row6_col3, #T_a1f53_row6_col4, #T_a1f53_row6_col5, #T_a1f53_row6_col6, #T_a1f53_row6_col7, #T_a1f53_row7_col0, #T_a1f53_row8_col0, #T_a1f53_row8_col1, #T_a1f53_row8_col2, #T_a1f53_row8_col3, #T_a1f53_row8_col4, #T_a1f53_row8_col5, #T_a1f53_row8_col6, #T_a1f53_row8_col7 {\n",
       "  background-color: #f7fcfd;\n",
       "  color: #000000;\n",
       "}\n",
       "#T_a1f53_row0_col1, #T_a1f53_row0_col5 {\n",
       "  background-color: #f4fbfc;\n",
       "  color: #000000;\n",
       "}\n",
       "#T_a1f53_row0_col2, #T_a1f53_row0_col6, #T_a1f53_row0_col7 {\n",
       "  background-color: #f2fafc;\n",
       "  color: #000000;\n",
       "}\n",
       "#T_a1f53_row0_col4 {\n",
       "  background-color: #f6fcfd;\n",
       "  color: #000000;\n",
       "}\n",
       "#T_a1f53_row1_col1, #T_a1f53_row1_col3, #T_a1f53_row1_col4, #T_a1f53_row1_col5, #T_a1f53_row1_col6, #T_a1f53_row4_col2, #T_a1f53_row4_col7 {\n",
       "  background-color: #00441b;\n",
       "  color: #f1f1f1;\n",
       "}\n",
       "#T_a1f53_row1_col2 {\n",
       "  background-color: #98d8c9;\n",
       "  color: #000000;\n",
       "}\n",
       "#T_a1f53_row1_col7 {\n",
       "  background-color: #45b07b;\n",
       "  color: #f1f1f1;\n",
       "}\n",
       "#T_a1f53_row2_col1 {\n",
       "  background-color: #4cb484;\n",
       "  color: #f1f1f1;\n",
       "}\n",
       "#T_a1f53_row2_col2 {\n",
       "  background-color: #e4f5f8;\n",
       "  color: #000000;\n",
       "}\n",
       "#T_a1f53_row2_col3 {\n",
       "  background-color: #006227;\n",
       "  color: #f1f1f1;\n",
       "}\n",
       "#T_a1f53_row2_col4 {\n",
       "  background-color: #3ca86d;\n",
       "  color: #f1f1f1;\n",
       "}\n",
       "#T_a1f53_row2_col5 {\n",
       "  background-color: #47b17e;\n",
       "  color: #f1f1f1;\n",
       "}\n",
       "#T_a1f53_row2_col6 {\n",
       "  background-color: #56ba91;\n",
       "  color: #f1f1f1;\n",
       "}\n",
       "#T_a1f53_row2_col7 {\n",
       "  background-color: #b0e1d6;\n",
       "  color: #000000;\n",
       "}\n",
       "#T_a1f53_row3_col1 {\n",
       "  background-color: #ddf2f3;\n",
       "  color: #000000;\n",
       "}\n",
       "#T_a1f53_row3_col2, #T_a1f53_row3_col5, #T_a1f53_row3_col7, #T_a1f53_row7_col7 {\n",
       "  background-color: #d8f0ef;\n",
       "  color: #000000;\n",
       "}\n",
       "#T_a1f53_row3_col6 {\n",
       "  background-color: #d1eeea;\n",
       "  color: #000000;\n",
       "}\n",
       "#T_a1f53_row4_col1 {\n",
       "  background-color: #5abb95;\n",
       "  color: #f1f1f1;\n",
       "}\n",
       "#T_a1f53_row4_col5 {\n",
       "  background-color: #a8ded2;\n",
       "  color: #000000;\n",
       "}\n",
       "#T_a1f53_row4_col6 {\n",
       "  background-color: #117b38;\n",
       "  color: #f1f1f1;\n",
       "}\n",
       "#T_a1f53_row5_col1, #T_a1f53_row7_col1 {\n",
       "  background-color: #c7eae3;\n",
       "  color: #000000;\n",
       "}\n",
       "#T_a1f53_row5_col2 {\n",
       "  background-color: #ecf8fb;\n",
       "  color: #000000;\n",
       "}\n",
       "#T_a1f53_row5_col3 {\n",
       "  background-color: #8ad2be;\n",
       "  color: #000000;\n",
       "}\n",
       "#T_a1f53_row5_col4 {\n",
       "  background-color: #c0e7df;\n",
       "  color: #000000;\n",
       "}\n",
       "#T_a1f53_row5_col5 {\n",
       "  background-color: #c4e9e1;\n",
       "  color: #000000;\n",
       "}\n",
       "#T_a1f53_row5_col6 {\n",
       "  background-color: #caebe5;\n",
       "  color: #000000;\n",
       "}\n",
       "#T_a1f53_row5_col7 {\n",
       "  background-color: #dff3f5;\n",
       "  color: #000000;\n",
       "}\n",
       "#T_a1f53_row7_col2 {\n",
       "  background-color: #e5f5f9;\n",
       "  color: #000000;\n",
       "}\n",
       "#T_a1f53_row7_col3 {\n",
       "  background-color: #6fc6aa;\n",
       "  color: #000000;\n",
       "}\n",
       "#T_a1f53_row7_col4, #T_a1f53_row7_col5 {\n",
       "  background-color: #cdece7;\n",
       "  color: #000000;\n",
       "}\n",
       "#T_a1f53_row7_col6 {\n",
       "  background-color: #c2e8e0;\n",
       "  color: #000000;\n",
       "}\n",
       "</style>\n",
       "<table id=\"T_a1f53_\">\n",
       "  <thead>\n",
       "    <tr>\n",
       "      <th class=\"blank level0\" >&nbsp;</th>\n",
       "      <th class=\"col_heading level0 col0\" >count</th>\n",
       "      <th class=\"col_heading level0 col1\" >mean</th>\n",
       "      <th class=\"col_heading level0 col2\" >std</th>\n",
       "      <th class=\"col_heading level0 col3\" >min</th>\n",
       "      <th class=\"col_heading level0 col4\" >25%</th>\n",
       "      <th class=\"col_heading level0 col5\" >50%</th>\n",
       "      <th class=\"col_heading level0 col6\" >75%</th>\n",
       "      <th class=\"col_heading level0 col7\" >max</th>\n",
       "    </tr>\n",
       "  </thead>\n",
       "  <tbody>\n",
       "    <tr>\n",
       "      <th id=\"T_a1f53_level0_row0\" class=\"row_heading level0 row0\" >Pregnancies</th>\n",
       "      <td id=\"T_a1f53_row0_col0\" class=\"data row0 col0\" >2000.000000</td>\n",
       "      <td id=\"T_a1f53_row0_col1\" class=\"data row0 col1\" >3.636221</td>\n",
       "      <td id=\"T_a1f53_row0_col2\" class=\"data row0 col2\" >3.187675</td>\n",
       "      <td id=\"T_a1f53_row0_col3\" class=\"data row0 col3\" >0.000000</td>\n",
       "      <td id=\"T_a1f53_row0_col4\" class=\"data row0 col4\" >1.000000</td>\n",
       "      <td id=\"T_a1f53_row0_col5\" class=\"data row0 col5\" >3.000000</td>\n",
       "      <td id=\"T_a1f53_row0_col6\" class=\"data row0 col6\" >6.000000</td>\n",
       "      <td id=\"T_a1f53_row0_col7\" class=\"data row0 col7\" >13.000000</td>\n",
       "    </tr>\n",
       "    <tr>\n",
       "      <th id=\"T_a1f53_level0_row1\" class=\"row_heading level0 row1\" >Glucose</th>\n",
       "      <td id=\"T_a1f53_row1_col0\" class=\"data row1 col0\" >2000.000000</td>\n",
       "      <td id=\"T_a1f53_row1_col1\" class=\"data row1 col1\" >121.970186</td>\n",
       "      <td id=\"T_a1f53_row1_col2\" class=\"data row1 col2\" >30.533180</td>\n",
       "      <td id=\"T_a1f53_row1_col3\" class=\"data row1 col3\" >44.000000</td>\n",
       "      <td id=\"T_a1f53_row1_col4\" class=\"data row1 col4\" >99.000000</td>\n",
       "      <td id=\"T_a1f53_row1_col5\" class=\"data row1 col5\" >118.000000</td>\n",
       "      <td id=\"T_a1f53_row1_col6\" class=\"data row1 col6\" >141.000000</td>\n",
       "      <td id=\"T_a1f53_row1_col7\" class=\"data row1 col7\" >199.000000</td>\n",
       "    </tr>\n",
       "    <tr>\n",
       "      <th id=\"T_a1f53_level0_row2\" class=\"row_heading level0 row2\" >BloodPressure</th>\n",
       "      <td id=\"T_a1f53_row2_col0\" class=\"data row2 col0\" >2000.000000</td>\n",
       "      <td id=\"T_a1f53_row2_col1\" class=\"data row2 col1\" >71.855094</td>\n",
       "      <td id=\"T_a1f53_row2_col2\" class=\"data row2 col2\" >10.809541</td>\n",
       "      <td id=\"T_a1f53_row2_col3\" class=\"data row2 col3\" >40.000000</td>\n",
       "      <td id=\"T_a1f53_row2_col4\" class=\"data row2 col4\" >64.000000</td>\n",
       "      <td id=\"T_a1f53_row2_col5\" class=\"data row2 col5\" >71.000000</td>\n",
       "      <td id=\"T_a1f53_row2_col6\" class=\"data row2 col6\" >78.000000</td>\n",
       "      <td id=\"T_a1f53_row2_col7\" class=\"data row2 col7\" >104.000000</td>\n",
       "    </tr>\n",
       "    <tr>\n",
       "      <th id=\"T_a1f53_level0_row3\" class=\"row_heading level0 row3\" >SkinThickness</th>\n",
       "      <td id=\"T_a1f53_row3_col0\" class=\"data row3 col0\" >2000.000000</td>\n",
       "      <td id=\"T_a1f53_row3_col1\" class=\"data row3 col1\" >20.767870</td>\n",
       "      <td id=\"T_a1f53_row3_col2\" class=\"data row3 col2\" >15.660548</td>\n",
       "      <td id=\"T_a1f53_row3_col3\" class=\"data row3 col3\" >0.000000</td>\n",
       "      <td id=\"T_a1f53_row3_col4\" class=\"data row3 col4\" >0.000000</td>\n",
       "      <td id=\"T_a1f53_row3_col5\" class=\"data row3 col5\" >23.000000</td>\n",
       "      <td id=\"T_a1f53_row3_col6\" class=\"data row3 col6\" >32.000000</td>\n",
       "      <td id=\"T_a1f53_row3_col7\" class=\"data row3 col7\" >63.000000</td>\n",
       "    </tr>\n",
       "    <tr>\n",
       "      <th id=\"T_a1f53_level0_row4\" class=\"row_heading level0 row4\" >Insulin</th>\n",
       "      <td id=\"T_a1f53_row4_col0\" class=\"data row4 col0\" >2000.000000</td>\n",
       "      <td id=\"T_a1f53_row4_col1\" class=\"data row4 col1\" >66.325271</td>\n",
       "      <td id=\"T_a1f53_row4_col2\" class=\"data row4 col2\" >80.676115</td>\n",
       "      <td id=\"T_a1f53_row4_col3\" class=\"data row4 col3\" >0.000000</td>\n",
       "      <td id=\"T_a1f53_row4_col4\" class=\"data row4 col4\" >0.000000</td>\n",
       "      <td id=\"T_a1f53_row4_col5\" class=\"data row4 col5\" >40.000000</td>\n",
       "      <td id=\"T_a1f53_row4_col6\" class=\"data row4 col6\" >115.000000</td>\n",
       "      <td id=\"T_a1f53_row4_col7\" class=\"data row4 col7\" >325.000000</td>\n",
       "    </tr>\n",
       "    <tr>\n",
       "      <th id=\"T_a1f53_level0_row5\" class=\"row_heading level0 row5\" >BMI</th>\n",
       "      <td id=\"T_a1f53_row5_col0\" class=\"data row5 col0\" >2000.000000</td>\n",
       "      <td id=\"T_a1f53_row5_col1\" class=\"data row5 col1\" >32.274754</td>\n",
       "      <td id=\"T_a1f53_row5_col2\" class=\"data row5 col2\" >6.427564</td>\n",
       "      <td id=\"T_a1f53_row5_col3\" class=\"data row5 col3\" >18.200000</td>\n",
       "      <td id=\"T_a1f53_row5_col4\" class=\"data row5 col4\" >27.600000</td>\n",
       "      <td id=\"T_a1f53_row5_col5\" class=\"data row5 col5\" >32.193000</td>\n",
       "      <td id=\"T_a1f53_row5_col6\" class=\"data row5 col6\" >36.400000</td>\n",
       "      <td id=\"T_a1f53_row5_col7\" class=\"data row5 col7\" >50.700000</td>\n",
       "    </tr>\n",
       "    <tr>\n",
       "      <th id=\"T_a1f53_level0_row6\" class=\"row_heading level0 row6\" >DiabetesPedigreeFunction</th>\n",
       "      <td id=\"T_a1f53_row6_col0\" class=\"data row6 col0\" >2000.000000</td>\n",
       "      <td id=\"T_a1f53_row6_col1\" class=\"data row6 col1\" >0.435139</td>\n",
       "      <td id=\"T_a1f53_row6_col2\" class=\"data row6 col2\" >0.248726</td>\n",
       "      <td id=\"T_a1f53_row6_col3\" class=\"data row6 col3\" >0.078000</td>\n",
       "      <td id=\"T_a1f53_row6_col4\" class=\"data row6 col4\" >0.244000</td>\n",
       "      <td id=\"T_a1f53_row6_col5\" class=\"data row6 col5\" >0.376000</td>\n",
       "      <td id=\"T_a1f53_row6_col6\" class=\"data row6 col6\" >0.583000</td>\n",
       "      <td id=\"T_a1f53_row6_col7\" class=\"data row6 col7\" >1.191000</td>\n",
       "    </tr>\n",
       "    <tr>\n",
       "      <th id=\"T_a1f53_level0_row7\" class=\"row_heading level0 row7\" >Age</th>\n",
       "      <td id=\"T_a1f53_row7_col0\" class=\"data row7 col0\" >2000.000000</td>\n",
       "      <td id=\"T_a1f53_row7_col1\" class=\"data row7 col1\" >32.250172</td>\n",
       "      <td id=\"T_a1f53_row7_col2\" class=\"data row7 col2\" >10.412693</td>\n",
       "      <td id=\"T_a1f53_row7_col3\" class=\"data row7 col3\" >21.000000</td>\n",
       "      <td id=\"T_a1f53_row7_col4\" class=\"data row7 col4\" >24.000000</td>\n",
       "      <td id=\"T_a1f53_row7_col5\" class=\"data row7 col5\" >29.000000</td>\n",
       "      <td id=\"T_a1f53_row7_col6\" class=\"data row7 col6\" >39.000000</td>\n",
       "      <td id=\"T_a1f53_row7_col7\" class=\"data row7 col7\" >64.000000</td>\n",
       "    </tr>\n",
       "    <tr>\n",
       "      <th id=\"T_a1f53_level0_row8\" class=\"row_heading level0 row8\" >Outcome</th>\n",
       "      <td id=\"T_a1f53_row8_col0\" class=\"data row8 col0\" >2000.000000</td>\n",
       "      <td id=\"T_a1f53_row8_col1\" class=\"data row8 col1\" >0.342000</td>\n",
       "      <td id=\"T_a1f53_row8_col2\" class=\"data row8 col2\" >0.474498</td>\n",
       "      <td id=\"T_a1f53_row8_col3\" class=\"data row8 col3\" >0.000000</td>\n",
       "      <td id=\"T_a1f53_row8_col4\" class=\"data row8 col4\" >0.000000</td>\n",
       "      <td id=\"T_a1f53_row8_col5\" class=\"data row8 col5\" >0.000000</td>\n",
       "      <td id=\"T_a1f53_row8_col6\" class=\"data row8 col6\" >1.000000</td>\n",
       "      <td id=\"T_a1f53_row8_col7\" class=\"data row8 col7\" >1.000000</td>\n",
       "    </tr>\n",
       "  </tbody>\n",
       "</table>\n"
      ],
      "text/plain": [
       "<pandas.io.formats.style.Styler at 0x27e4575ed30>"
      ]
     },
     "execution_count": 31,
     "metadata": {},
     "output_type": "execute_result"
    }
   ],
   "source": [
    "df.describe().T.style.background_gradient('BuGn')"
   ]
  },
  {
   "cell_type": "code",
   "execution_count": 32,
   "id": "ff633343",
   "metadata": {},
   "outputs": [
    {
     "name": "stdout",
     "output_type": "stream",
     "text": [
      "Having Diebetics:\t 684\n",
      "Not_Having Diebetics:\t 1316\n",
      "Having Diebetese petions: 0.342 %\n",
      "not Having Diebetese petions: 0.66 %\n"
     ]
    },
    {
     "data": {
      "image/png": "[encoded data removed]",
      "text/plain": [
       "<Figure size 432x288 with 1 Axes>"
      ]
     },
     "metadata": {},
     "output_type": "display_data"
    }
   ],
   "source": [
    "having_diabetese=df[df['Outcome']==1]\n",
    "not_having_diabetese=df[df['Outcome']==0]\n",
    "\n",
    "print('Having Diebetics:\\t',str(len(having_diabetese)))\n",
    "print('Not_Having Diebetics:\\t',str(len(not_having_diabetese)))\n",
    "\n",
    "\n",
    "sns.barplot(x=['Having Diebetese','Not Having Diabetese'],y=[len(having_diabetese),\n",
    "                                                           len(not_having_diabetese)])\n",
    "\n",
    "print('Having Diebetese petions:',str(round(len(having_diabetese)/len(df),3)),'%')\n",
    "print('not Having Diebetese petions:',str(round(len(not_having_diabetese)/len(df),2)),'%')"
   ]
  },
  {
   "cell_type": "code",
   "execution_count": null,
   "id": "1dcfff46",
   "metadata": {},
   "outputs": [],
   "source": []
  },
  {
   "cell_type": "code",
   "execution_count": 34,
   "id": "12246546",
   "metadata": {},
   "outputs": [
    {
     "data": {
      "text/plain": [
       "<AxesSubplot:xlabel='BloodPressure', ylabel='Density'>"
      ]
     },
     "execution_count": 34,
     "metadata": {},
     "output_type": "execute_result"
    },
    {
     "data": {
      "image/png": "[encoded data removed]",
      "text/plain": [
       "<Figure size 1080x360 with 1 Axes>"
      ]
     },
     "metadata": {},
     "output_type": "display_data"
    }
   ],
   "source": [
    "plt.figure(figsize=(15,5))\n",
    "sns.distplot(df[df['Outcome']==1]['BloodPressure'],color='r')\n",
    "sns.distplot(df[df['Outcome']==0]['BloodPressure'],color='g')"
   ]
  },
  {
   "cell_type": "code",
   "execution_count": 35,
   "id": "0dc113e4",
   "metadata": {},
   "outputs": [
    {
     "data": {
      "text/plain": [
       "<AxesSubplot:xlabel='Age', ylabel='Density'>"
      ]
     },
     "execution_count": 35,
     "metadata": {},
     "output_type": "execute_result"
    },
    {
     "data": {
      "image/png": "[encoded data removed]",
      "text/plain": [
       "<Figure size 1080x360 with 1 Axes>"
      ]
     },
     "metadata": {},
     "output_type": "display_data"
    }
   ],
   "source": [
    "plt.figure(figsize=(15,5))\n",
    "\n",
    "sns.distplot(df[df['Outcome']==1]['Age'],color='r')\n",
    "sns.distplot(df[df['Outcome']==0]['Age'],color='g')"
   ]
  },
  {
   "cell_type": "code",
   "execution_count": 36,
   "id": "2c05483f",
   "metadata": {},
   "outputs": [
    {
     "data": {
      "text/plain": [
       "<AxesSubplot:xlabel='Age', ylabel='Insulin'>"
      ]
     },
     "execution_count": 36,
     "metadata": {},
     "output_type": "execute_result"
    },
    {
     "data": {
      "image/png": "[encoded data removed]",
      "text/plain": [
       "<Figure size 720x504 with 1 Axes>"
      ]
     },
     "metadata": {},
     "output_type": "display_data"
    }
   ],
   "source": [
    "plt.figure(figsize=(10,7))\n",
    "\n",
    "sns.scatterplot(df['Age'],df['Insulin'],hue=df['Outcome'],color='r')\n"
   ]
  },
  {
   "cell_type": "raw",
   "id": "e791e7d2",
   "metadata": {},
   "source": [
    "fig,axes=plt.subplots(2,4, figsize=(20,10))\n",
    "l=0  # Row\n",
    "m=0  # column\n",
    "for i in cols[:-1]:\n",
    "    sns.scatterplot(x=df[i],y='Outcome',data=df,hue='Outcome',ax=axes[l][m])\n",
    "    m+=1\n",
    "    if m==4:\n",
    "        m=0\n",
    "        if l<3:\n",
    "            l+=1\n",
    "        \n",
    "\n"
   ]
  },
  {
   "cell_type": "code",
   "execution_count": null,
   "id": "5ee6ab51",
   "metadata": {},
   "outputs": [],
   "source": [
    "#df['Insulin']=df['Insulin'].apply(lambda x: str(x).replace('0','0'))"
   ]
  },
  {
   "cell_type": "code",
   "execution_count": 39,
   "id": "1e240c1c",
   "metadata": {},
   "outputs": [
    {
     "data": {
      "text/plain": [
       "<AxesSubplot:>"
      ]
     },
     "execution_count": 39,
     "metadata": {},
     "output_type": "execute_result"
    },
    {
     "data": {
      "image/png": "[encoded data removed]",
      "text/plain": [
       "<Figure size 864x432 with 2 Axes>"
      ]
     },
     "metadata": {},
     "output_type": "display_data"
    }
   ],
   "source": [
    "plt.figure(figsize=(12,6))\n",
    "corr=df.corr()\n",
    "sns.heatmap(corr,annot=True,cmap='PuBuGn')\n",
    "\n"
   ]
  },
  {
   "cell_type": "code",
   "execution_count": 40,
   "id": "03f44734",
   "metadata": {},
   "outputs": [],
   "source": [
    "X=df.drop('Outcome',axis=1)\n",
    "y=df.Outcome"
   ]
  },
  {
   "cell_type": "code",
   "execution_count": 41,
   "id": "5cc11306",
   "metadata": {},
   "outputs": [],
   "source": [
    "from sklearn.preprocessing import StandardScaler\n",
    "sc=StandardScaler()"
   ]
  },
  {
   "cell_type": "code",
   "execution_count": 42,
   "id": "dacffeff",
   "metadata": {},
   "outputs": [],
   "source": [
    "#X=sc.fit_transform(X)"
   ]
  },
  {
   "cell_type": "code",
   "execution_count": 43,
   "id": "dca48ad5",
   "metadata": {},
   "outputs": [
    {
     "data": {
      "text/html": [
       "<div>\n",
       "<style scoped>\n",
       "    .dataframe tbody tr th:only-of-type {\n",
       "        vertical-align: middle;\n",
       "    }\n",
       "\n",
       "    .dataframe tbody tr th {\n",
       "        vertical-align: top;\n",
       "    }\n",
       "\n",
       "    .dataframe thead th {\n",
       "        text-align: right;\n",
       "    }\n",
       "</style>\n",
       "<table border=\"1\" class=\"dataframe\">\n",
       "  <thead>\n",
       "    <tr style=\"text-align: right;\">\n",
       "      <th></th>\n",
       "      <th>Pregnancies</th>\n",
       "      <th>Glucose</th>\n",
       "      <th>BloodPressure</th>\n",
       "      <th>SkinThickness</th>\n",
       "      <th>Insulin</th>\n",
       "      <th>BMI</th>\n",
       "      <th>DiabetesPedigreeFunction</th>\n",
       "      <th>Age</th>\n",
       "    </tr>\n",
       "  </thead>\n",
       "  <tbody>\n",
       "    <tr>\n",
       "      <th>0</th>\n",
       "      <td>2.0</td>\n",
       "      <td>138.0</td>\n",
       "      <td>62.0000</td>\n",
       "      <td>35.0</td>\n",
       "      <td>0.000</td>\n",
       "      <td>33.600</td>\n",
       "      <td>0.127</td>\n",
       "      <td>47.0</td>\n",
       "    </tr>\n",
       "    <tr>\n",
       "      <th>1</th>\n",
       "      <td>0.0</td>\n",
       "      <td>84.0</td>\n",
       "      <td>82.0000</td>\n",
       "      <td>31.0</td>\n",
       "      <td>125.000</td>\n",
       "      <td>38.200</td>\n",
       "      <td>0.233</td>\n",
       "      <td>23.0</td>\n",
       "    </tr>\n",
       "    <tr>\n",
       "      <th>2</th>\n",
       "      <td>0.0</td>\n",
       "      <td>145.0</td>\n",
       "      <td>69.1455</td>\n",
       "      <td>0.0</td>\n",
       "      <td>0.000</td>\n",
       "      <td>44.200</td>\n",
       "      <td>0.630</td>\n",
       "      <td>31.0</td>\n",
       "    </tr>\n",
       "    <tr>\n",
       "      <th>3</th>\n",
       "      <td>0.0</td>\n",
       "      <td>135.0</td>\n",
       "      <td>68.0000</td>\n",
       "      <td>42.0</td>\n",
       "      <td>250.000</td>\n",
       "      <td>42.300</td>\n",
       "      <td>0.365</td>\n",
       "      <td>24.0</td>\n",
       "    </tr>\n",
       "    <tr>\n",
       "      <th>4</th>\n",
       "      <td>1.0</td>\n",
       "      <td>139.0</td>\n",
       "      <td>62.0000</td>\n",
       "      <td>41.0</td>\n",
       "      <td>80.254</td>\n",
       "      <td>40.700</td>\n",
       "      <td>0.536</td>\n",
       "      <td>21.0</td>\n",
       "    </tr>\n",
       "    <tr>\n",
       "      <th>...</th>\n",
       "      <td>...</td>\n",
       "      <td>...</td>\n",
       "      <td>...</td>\n",
       "      <td>...</td>\n",
       "      <td>...</td>\n",
       "      <td>...</td>\n",
       "      <td>...</td>\n",
       "      <td>...</td>\n",
       "    </tr>\n",
       "    <tr>\n",
       "      <th>1995</th>\n",
       "      <td>2.0</td>\n",
       "      <td>75.0</td>\n",
       "      <td>64.0000</td>\n",
       "      <td>24.0</td>\n",
       "      <td>55.000</td>\n",
       "      <td>29.700</td>\n",
       "      <td>0.370</td>\n",
       "      <td>33.0</td>\n",
       "    </tr>\n",
       "    <tr>\n",
       "      <th>1996</th>\n",
       "      <td>8.0</td>\n",
       "      <td>179.0</td>\n",
       "      <td>72.0000</td>\n",
       "      <td>42.0</td>\n",
       "      <td>130.000</td>\n",
       "      <td>32.700</td>\n",
       "      <td>0.719</td>\n",
       "      <td>36.0</td>\n",
       "    </tr>\n",
       "    <tr>\n",
       "      <th>1997</th>\n",
       "      <td>6.0</td>\n",
       "      <td>85.0</td>\n",
       "      <td>78.0000</td>\n",
       "      <td>0.0</td>\n",
       "      <td>0.000</td>\n",
       "      <td>31.200</td>\n",
       "      <td>0.382</td>\n",
       "      <td>42.0</td>\n",
       "    </tr>\n",
       "    <tr>\n",
       "      <th>1998</th>\n",
       "      <td>0.0</td>\n",
       "      <td>129.0</td>\n",
       "      <td>69.1455</td>\n",
       "      <td>46.0</td>\n",
       "      <td>130.000</td>\n",
       "      <td>32.193</td>\n",
       "      <td>0.319</td>\n",
       "      <td>26.0</td>\n",
       "    </tr>\n",
       "    <tr>\n",
       "      <th>1999</th>\n",
       "      <td>2.0</td>\n",
       "      <td>81.0</td>\n",
       "      <td>72.0000</td>\n",
       "      <td>15.0</td>\n",
       "      <td>76.000</td>\n",
       "      <td>30.100</td>\n",
       "      <td>0.547</td>\n",
       "      <td>25.0</td>\n",
       "    </tr>\n",
       "  </tbody>\n",
       "</table>\n",
       "<p>2000 rows × 8 columns</p>\n",
       "</div>"
      ],
      "text/plain": [
       "      Pregnancies  Glucose  BloodPressure  SkinThickness  Insulin     BMI  \\\n",
       "0             2.0    138.0        62.0000           35.0    0.000  33.600   \n",
       "1             0.0     84.0        82.0000           31.0  125.000  38.200   \n",
       "2             0.0    145.0        69.1455            0.0    0.000  44.200   \n",
       "3             0.0    135.0        68.0000           42.0  250.000  42.300   \n",
       "4             1.0    139.0        62.0000           41.0   80.254  40.700   \n",
       "...           ...      ...            ...            ...      ...     ...   \n",
       "1995          2.0     75.0        64.0000           24.0   55.000  29.700   \n",
       "1996          8.0    179.0        72.0000           42.0  130.000  32.700   \n",
       "1997          6.0     85.0        78.0000            0.0    0.000  31.200   \n",
       "1998          0.0    129.0        69.1455           46.0  130.000  32.193   \n",
       "1999          2.0     81.0        72.0000           15.0   76.000  30.100   \n",
       "\n",
       "      DiabetesPedigreeFunction   Age  \n",
       "0                        0.127  47.0  \n",
       "1                        0.233  23.0  \n",
       "2                        0.630  31.0  \n",
       "3                        0.365  24.0  \n",
       "4                        0.536  21.0  \n",
       "...                        ...   ...  \n",
       "1995                     0.370  33.0  \n",
       "1996                     0.719  36.0  \n",
       "1997                     0.382  42.0  \n",
       "1998                     0.319  26.0  \n",
       "1999                     0.547  25.0  \n",
       "\n",
       "[2000 rows x 8 columns]"
      ]
     },
     "execution_count": 43,
     "metadata": {},
     "output_type": "execute_result"
    }
   ],
   "source": [
    "df2=pd.DataFrame(X)\n",
    "new_df=df2.rename(columns={0:'Pregnancies',1:'Glucose',2:'BloodPressure',\n",
    "                           3:'SkinThickness',4:'Insulin',5:'BMI',6:'DiabetesPedigreeFunction',\n",
    "                          7:'Age',8:'Outcome'})\n",
    "new_df"
   ]
  },
  {
   "cell_type": "code",
   "execution_count": 44,
   "id": "c8105389",
   "metadata": {},
   "outputs": [
    {
     "data": {
      "text/plain": [
       "array([1., 0., 1., ..., 0., 1., 0.])"
      ]
     },
     "execution_count": 44,
     "metadata": {},
     "output_type": "execute_result"
    }
   ],
   "source": [
    "y.values"
   ]
  },
  {
   "cell_type": "code",
   "execution_count": 45,
   "id": "34526153",
   "metadata": {},
   "outputs": [],
   "source": [
    "X_train, X_test, y_train, y_test=train_test_split(X,y,test_size=0.2)"
   ]
  },
  {
   "cell_type": "code",
   "execution_count": 46,
   "id": "3b68b0fc",
   "metadata": {},
   "outputs": [
    {
     "name": "stdout",
     "output_type": "stream",
     "text": [
      "X_train (1600, 8)\n",
      "X_test (400, 8)\n"
     ]
    }
   ],
   "source": [
    "print('X_train',X_train.shape)\n",
    "print('X_test',X_test.shape)"
   ]
  },
  {
   "cell_type": "code",
   "execution_count": 47,
   "id": "2a49db70",
   "metadata": {},
   "outputs": [
    {
     "name": "stdout",
     "output_type": "stream",
     "text": [
      "y_train (1600,)\n",
      "y_test (400,)\n"
     ]
    }
   ],
   "source": [
    "print('y_train',y_train.shape)\n",
    "print('y_test',y_test.shape)"
   ]
  },
  {
   "cell_type": "code",
   "execution_count": 48,
   "id": "2a57e6c3",
   "metadata": {},
   "outputs": [],
   "source": [
    "X_train_scale=sc.fit_transform(X_train)\n",
    "X_test_scale=sc.transform(X_test)"
   ]
  },
  {
   "cell_type": "markdown",
   "id": "c912818e",
   "metadata": {},
   "source": [
    "# Logistic Regression model"
   ]
  },
  {
   "cell_type": "code",
   "execution_count": 49,
   "id": "e8d1927b",
   "metadata": {},
   "outputs": [],
   "source": [
    "model = LogisticRegression(max_iter=200,fit_intercept=True)\n"
   ]
  },
  {
   "cell_type": "code",
   "execution_count": 50,
   "id": "9c663525",
   "metadata": {},
   "outputs": [
    {
     "data": {
      "text/plain": [
       "LogisticRegression(max_iter=200)"
      ]
     },
     "execution_count": 50,
     "metadata": {},
     "output_type": "execute_result"
    }
   ],
   "source": [
    "model.fit(X_train_scale,y_train)"
   ]
  },
  {
   "cell_type": "code",
   "execution_count": 51,
   "id": "e2c25883",
   "metadata": {},
   "outputs": [
    {
     "data": {
      "text/plain": [
       "array([-0.88439996])"
      ]
     },
     "execution_count": 51,
     "metadata": {},
     "output_type": "execute_result"
    }
   ],
   "source": [
    "model.intercept_"
   ]
  },
  {
   "cell_type": "code",
   "execution_count": 52,
   "id": "03cca5b2",
   "metadata": {},
   "outputs": [
    {
     "data": {
      "text/plain": [
       "array([[ 0.26042551,  1.05858013, -0.04975652, -0.06051353, -0.108231  ,\n",
       "         0.57164744,  0.24207738,  0.32655988]])"
      ]
     },
     "execution_count": 52,
     "metadata": {},
     "output_type": "execute_result"
    }
   ],
   "source": [
    "model.coef_"
   ]
  },
  {
   "cell_type": "code",
   "execution_count": 53,
   "id": "75eab9e4",
   "metadata": {},
   "outputs": [
    {
     "data": {
      "text/plain": [
       "array([0., 1.])"
      ]
     },
     "execution_count": 53,
     "metadata": {},
     "output_type": "execute_result"
    }
   ],
   "source": [
    "model.classes_"
   ]
  },
  {
   "cell_type": "code",
   "execution_count": 54,
   "id": "9bdcd4b8",
   "metadata": {},
   "outputs": [],
   "source": [
    "# Prediction on our model\n",
    "\n",
    "y_pred=model.predict(X_test_scale)"
   ]
  },
  {
   "cell_type": "code",
   "execution_count": 55,
   "id": "36b197d2",
   "metadata": {},
   "outputs": [
    {
     "data": {
      "text/plain": [
       "<AxesSubplot:>"
      ]
     },
     "execution_count": 55,
     "metadata": {},
     "output_type": "execute_result"
    },
    {
     "data": {
      "image/png": "[encoded data removed]",
      "text/plain": [
       "<Figure size 432x288 with 2 Axes>"
      ]
     },
     "metadata": {},
     "output_type": "display_data"
    }
   ],
   "source": [
    "# Confusion Matrix\n",
    "from sklearn.metrics import confusion_matrix\n",
    "conf_mat=confusion_matrix(y_pred,y_test)\n",
    "sns.heatmap(conf_mat,annot=True,fmt='d',cmap=\"YlGnBu\",linewidths=0.5,)\n"
   ]
  },
  {
   "cell_type": "code",
   "execution_count": null,
   "id": "602e6a48",
   "metadata": {},
   "outputs": [],
   "source": []
  },
  {
   "cell_type": "code",
   "execution_count": 56,
   "id": "4b8842c7",
   "metadata": {},
   "outputs": [
    {
     "name": "stdout",
     "output_type": "stream",
     "text": [
      "Correctly Predicted:\t317\n",
      "Incorrectly Predicted:\t83\n",
      "Correctness Score Percentage:\t79.0 %\n",
      "Incorrect Ptediction: 20.75%\n"
     ]
    }
   ],
   "source": [
    "correct_predictions = (conf_mat[0][0] + conf_mat[1][1])\n",
    "incorrect_predictions = (conf_mat[0][1] + conf_mat[1][0])\n",
    "print(\"Correctly Predicted:\\t\" + str(correct_predictions))\n",
    "print(\"Incorrectly Predicted:\\t\" + str(incorrect_predictions))\n",
    "print(\"Correctness Score Percentage:\\t\" + str(round(correct_predictions/np.sum(conf_mat),2)*100) + \" %\")\n",
    "print(\"Incorrect Ptediction:\",str(round(incorrect_predictions)/np.sum(conf_mat)*100)+'%')"
   ]
  },
  {
   "cell_type": "code",
   "execution_count": 57,
   "id": "4c30e1fe",
   "metadata": {},
   "outputs": [],
   "source": [
    "def calculate_precision(tp,fp):\n",
    "    return tp/tp+fp"
   ]
  },
  {
   "cell_type": "code",
   "execution_count": 58,
   "id": "d1871051",
   "metadata": {},
   "outputs": [],
   "source": [
    "def calculate_recall(tp,fn):\n",
    "    return tp/tp+fn"
   ]
  },
  {
   "cell_type": "code",
   "execution_count": 59,
   "id": "21dcaec2",
   "metadata": {},
   "outputs": [],
   "source": [
    "def calculte_f1score(precision,recall):\n",
    "    return 2 * precision * recall/(precision + recall)"
   ]
  },
  {
   "cell_type": "code",
   "execution_count": 60,
   "id": "11e308e9",
   "metadata": {},
   "outputs": [],
   "source": [
    "def calculate_specificity(tn,fp):\n",
    "    return tn/tn+fp"
   ]
  },
  {
   "cell_type": "raw",
   "id": "0f3b1bd5",
   "metadata": {},
   "source": [
    "precision = calculate_precision(cm[1][1],cm[1][0])\n",
    "precision"
   ]
  },
  {
   "cell_type": "code",
   "execution_count": 61,
   "id": "36a8c258",
   "metadata": {},
   "outputs": [],
   "source": [
    "# Model evlauation"
   ]
  },
  {
   "cell_type": "code",
   "execution_count": null,
   "id": "b9c5c2bc",
   "metadata": {},
   "outputs": [],
   "source": []
  },
  {
   "cell_type": "markdown",
   "id": "e0a6ade9",
   "metadata": {},
   "source": [
    "# KNeighbors algorithm"
   ]
  },
  {
   "cell_type": "code",
   "execution_count": 62,
   "id": "16f6d90a",
   "metadata": {},
   "outputs": [
    {
     "data": {
      "text/plain": [
       "KNeighborsClassifier()"
      ]
     },
     "execution_count": 62,
     "metadata": {},
     "output_type": "execute_result"
    }
   ],
   "source": [
    "knn=KNeighborsClassifier(n_neighbors=5)\n",
    "knn.fit(X_train_scale,y_train)"
   ]
  },
  {
   "cell_type": "code",
   "execution_count": 63,
   "id": "3924ad63",
   "metadata": {},
   "outputs": [],
   "source": [
    "knn_pred=knn.predict(X_test_scale)\n"
   ]
  },
  {
   "cell_type": "markdown",
   "id": "f3e7808a",
   "metadata": {},
   "source": [
    "# KNN model Evaluation"
   ]
  },
  {
   "cell_type": "code",
   "execution_count": 64,
   "id": "5749de77",
   "metadata": {},
   "outputs": [
    {
     "data": {
      "text/plain": [
       "<AxesSubplot:>"
      ]
     },
     "execution_count": 64,
     "metadata": {},
     "output_type": "execute_result"
    },
    {
     "data": {
      "image/png": "[encoded data removed]",
      "text/plain": [
       "<Figure size 432x288 with 2 Axes>"
      ]
     },
     "metadata": {},
     "output_type": "display_data"
    }
   ],
   "source": [
    "# Confusion Matrix\n",
    "\n",
    "knn_conf_mat=confusion_matrix(knn_pred,y_test)\n",
    "sns.heatmap(knn_conf_mat,annot=True,fmt='d',cmap=\"YlGnBu\",linewidths=0.5)\n"
   ]
  },
  {
   "cell_type": "code",
   "execution_count": 65,
   "id": "425d724a",
   "metadata": {},
   "outputs": [
    {
     "name": "stdout",
     "output_type": "stream",
     "text": [
      "Correctly Predicted:\t317\n",
      "Incorrectly Predicted:\t83\n",
      "Correctness Score Percentage:\t79.0 %\n",
      "Incorrect Ptediction: 20.75%\n"
     ]
    }
   ],
   "source": [
    "correct_predictions = (conf_mat[0][0] + conf_mat[1][1])\n",
    "incorrect_predictions = (conf_mat[0][1] + conf_mat[1][0])\n",
    "print(\"Correctly Predicted:\\t\" + str(correct_predictions))\n",
    "print(\"Incorrectly Predicted:\\t\" + str(incorrect_predictions))\n",
    "print(\"Correctness Score Percentage:\\t\" + str(round(correct_predictions/np.sum(conf_mat),2)*100) + \" %\")\n",
    "print(\"Incorrect Ptediction:\",str(round(incorrect_predictions)/np.sum(conf_mat)*100)+'%')"
   ]
  },
  {
   "cell_type": "code",
   "execution_count": 66,
   "id": "6f5e645d",
   "metadata": {},
   "outputs": [
    {
     "name": "stdout",
     "output_type": "stream",
     "text": [
      "classification report               precision    recall  f1-score   support\n",
      "\n",
      "         0.0       0.83      0.82      0.82       269\n",
      "         1.0       0.64      0.66      0.65       131\n",
      "\n",
      "    accuracy                           0.77       400\n",
      "   macro avg       0.73      0.74      0.74       400\n",
      "weighted avg       0.77      0.77      0.77       400\n",
      "\n"
     ]
    }
   ],
   "source": [
    "print('classification report',classification_report(knn_pred,y_test))"
   ]
  },
  {
   "cell_type": "markdown",
   "id": "c6200d51",
   "metadata": {},
   "source": [
    "# DecisionTree Classifier algorithm"
   ]
  },
  {
   "cell_type": "code",
   "execution_count": 67,
   "id": "0bc4e47e",
   "metadata": {},
   "outputs": [],
   "source": [
    "dt=DecisionTreeClassifier(criterion='gini',max_depth=4,min_samples_leaf=1)"
   ]
  },
  {
   "cell_type": "code",
   "execution_count": 68,
   "id": "7f72d9c1",
   "metadata": {},
   "outputs": [
    {
     "data": {
      "text/plain": [
       "DecisionTreeClassifier(max_depth=4)"
      ]
     },
     "execution_count": 68,
     "metadata": {},
     "output_type": "execute_result"
    }
   ],
   "source": [
    "dt.fit(X_train, y_train)"
   ]
  },
  {
   "cell_type": "code",
   "execution_count": 69,
   "id": "17b8b72c",
   "metadata": {},
   "outputs": [
    {
     "data": {
      "text/plain": [
       "array([1., 0., 0., 0., 1., 0., 1., 1., 0., 0., 0., 0., 0., 1., 1., 0., 0.,\n",
       "       0., 0., 0., 0., 0., 1., 1., 0., 1., 1., 1., 0., 0., 0., 0., 1., 0.,\n",
       "       1., 0., 0., 1., 0., 0., 0., 1., 0., 1., 1., 0., 0., 0., 0., 0., 0.,\n",
       "       0., 0., 1., 0., 1., 0., 0., 0., 0., 1., 1., 0., 0., 1., 0., 1., 1.,\n",
       "       0., 1., 0., 1., 1., 0., 0., 0., 0., 0., 0., 1., 0., 0., 0., 0., 0.,\n",
       "       1., 1., 0., 1., 0., 1., 0., 1., 0., 0., 0., 1., 0., 1., 1., 0., 0.,\n",
       "       1., 1., 0., 0., 0., 1., 0., 1., 1., 0., 0., 1., 0., 1., 0., 0., 0.,\n",
       "       0., 1., 0., 0., 1., 0., 0., 1., 0., 0., 1., 0., 0., 1., 1., 1., 1.,\n",
       "       1., 1., 1., 0., 0., 1., 0., 1., 0., 0., 1., 1., 0., 0., 0., 0., 0.,\n",
       "       0., 1., 1., 0., 0., 1., 0., 0., 0., 0., 0., 0., 1., 1., 0., 1., 1.,\n",
       "       1., 0., 0., 1., 1., 0., 1., 0., 1., 1., 1., 1., 0., 1., 0., 0., 1.,\n",
       "       0., 0., 0., 0., 0., 1., 0., 0., 1., 1., 1., 1., 1., 0., 0., 1., 1.,\n",
       "       1., 1., 1., 1., 0., 1., 1., 1., 1., 1., 0., 1., 0., 0., 0., 0., 0.,\n",
       "       0., 1., 0., 1., 0., 1., 1., 1., 0., 1., 0., 1., 1., 0., 0., 0., 1.,\n",
       "       0., 0., 0., 1., 0., 0., 0., 0., 1., 0., 0., 0., 1., 0., 0., 0., 0.,\n",
       "       1., 1., 1., 0., 0., 1., 0., 0., 1., 0., 0., 1., 1., 0., 1., 1., 0.,\n",
       "       0., 1., 1., 1., 0., 0., 0., 0., 0., 1., 0., 1., 1., 0., 1., 1., 1.,\n",
       "       0., 1., 1., 0., 1., 0., 1., 0., 0., 0., 0., 0., 1., 0., 0., 1., 0.,\n",
       "       0., 1., 1., 0., 1., 0., 1., 0., 0., 1., 0., 0., 0., 1., 0., 0., 0.,\n",
       "       0., 0., 1., 1., 1., 1., 0., 1., 0., 1., 0., 1., 0., 1., 0., 0., 0.,\n",
       "       1., 0., 0., 0., 1., 0., 0., 0., 1., 1., 0., 0., 0., 0., 0., 1., 0.,\n",
       "       0., 1., 0., 0., 0., 1., 0., 0., 0., 0., 0., 0., 1., 0., 1., 1., 1.,\n",
       "       0., 0., 0., 0., 1., 0., 1., 0., 0., 1., 0., 0., 0., 1., 0., 0., 1.,\n",
       "       0., 1., 1., 0., 0., 0., 1., 1., 0.])"
      ]
     },
     "execution_count": 69,
     "metadata": {},
     "output_type": "execute_result"
    }
   ],
   "source": [
    "tree_pred=dt.predict(X_test)\n",
    "tree_pred"
   ]
  },
  {
   "cell_type": "code",
   "execution_count": 70,
   "id": "e9915d48",
   "metadata": {},
   "outputs": [
    {
     "data": {
      "text/plain": [
       "1565    0.0\n",
       "774     0.0\n",
       "1666    0.0\n",
       "1711    0.0\n",
       "1146    1.0\n",
       "       ... \n",
       "901     0.0\n",
       "1918    0.0\n",
       "1947    0.0\n",
       "993     0.0\n",
       "76      0.0\n",
       "Name: Outcome, Length: 400, dtype: float64"
      ]
     },
     "execution_count": 70,
     "metadata": {},
     "output_type": "execute_result"
    }
   ],
   "source": [
    "y_test"
   ]
  },
  {
   "cell_type": "code",
   "execution_count": 71,
   "id": "042a5cae",
   "metadata": {},
   "outputs": [
    {
     "name": "stdout",
     "output_type": "stream",
     "text": [
      "accuracy_score 78.0\n"
     ]
    }
   ],
   "source": [
    "print('accuracy_score',accuracy_score(y_test,tree_pred)*100)"
   ]
  },
  {
   "cell_type": "markdown",
   "id": "ec266770",
   "metadata": {},
   "source": [
    "# Model Evaluation"
   ]
  },
  {
   "cell_type": "code",
   "execution_count": 72,
   "id": "cf44a6be",
   "metadata": {},
   "outputs": [
    {
     "data": {
      "text/plain": [
       "<AxesSubplot:>"
      ]
     },
     "execution_count": 72,
     "metadata": {},
     "output_type": "execute_result"
    },
    {
     "data": {
      "image/png": "[encoded data removed]",
      "text/plain": [
       "<Figure size 432x288 with 2 Axes>"
      ]
     },
     "metadata": {},
     "output_type": "display_data"
    }
   ],
   "source": [
    "tree_conf_mat=confusion_matrix(y_test, tree_pred)\n",
    "sns.heatmap(tree_conf_mat,annot=True,fmt='d')"
   ]
  },
  {
   "cell_type": "code",
   "execution_count": 73,
   "id": "5e878bd2",
   "metadata": {},
   "outputs": [
    {
     "name": "stdout",
     "output_type": "stream",
     "text": [
      "classification report               precision    recall  f1-score   support\n",
      "\n",
      "         0.0       0.78      0.87      0.82       237\n",
      "         1.0       0.78      0.64      0.70       163\n",
      "\n",
      "    accuracy                           0.78       400\n",
      "   macro avg       0.78      0.76      0.76       400\n",
      "weighted avg       0.78      0.78      0.78       400\n",
      "\n"
     ]
    }
   ],
   "source": [
    "print('classification report',classification_report(tree_pred,y_test))"
   ]
  },
  {
   "cell_type": "raw",
   "id": "b44c8fc8",
   "metadata": {},
   "source": [
    "fig = plt.figure(figsize=(50,25))\n",
    "_ = plot_tree(dt, \n",
    "                   feature_names=cols[:-1],  \n",
    "                   class_names=cols[-1],\n",
    "                   filled=True)"
   ]
  },
  {
   "cell_type": "markdown",
   "id": "a53fdcc4",
   "metadata": {},
   "source": [
    "# RandomForest Classifier"
   ]
  },
  {
   "cell_type": "code",
   "execution_count": 74,
   "id": "513c151b",
   "metadata": {},
   "outputs": [],
   "source": [
    "rfc=RandomForestClassifier(n_estimators=100)"
   ]
  },
  {
   "cell_type": "code",
   "execution_count": 75,
   "id": "d01fe18d",
   "metadata": {},
   "outputs": [
    {
     "data": {
      "text/plain": [
       "RandomForestClassifier()"
      ]
     },
     "execution_count": 75,
     "metadata": {},
     "output_type": "execute_result"
    }
   ],
   "source": [
    "rfc.fit(X_train_scale,y_train)"
   ]
  },
  {
   "cell_type": "code",
   "execution_count": 76,
   "id": "28d509ce",
   "metadata": {},
   "outputs": [],
   "source": [
    "forest_pred=rfc.predict(X_test_scale)"
   ]
  },
  {
   "cell_type": "code",
   "execution_count": null,
   "id": "2bf984f5",
   "metadata": {},
   "outputs": [],
   "source": []
  },
  {
   "cell_type": "code",
   "execution_count": 77,
   "id": "6558ff5a",
   "metadata": {},
   "outputs": [
    {
     "data": {
      "text/plain": [
       "<AxesSubplot:>"
      ]
     },
     "execution_count": 77,
     "metadata": {},
     "output_type": "execute_result"
    },
    {
     "data": {
      "image/png": "[encoded data removed]",
      "text/plain": [
       "<Figure size 432x288 with 2 Axes>"
      ]
     },
     "metadata": {},
     "output_type": "display_data"
    }
   ],
   "source": [
    "forest_conf_mat=confusion_matrix(forest_pred,y_test)\n",
    "sns.heatmap(forest_conf_mat,annot=True,fmt='d')"
   ]
  },
  {
   "cell_type": "code",
   "execution_count": 78,
   "id": "f53cb080",
   "metadata": {},
   "outputs": [
    {
     "name": "stdout",
     "output_type": "stream",
     "text": [
      "classification report               precision    recall  f1-score   support\n",
      "\n",
      "         0.0       0.99      0.99      0.99       265\n",
      "         1.0       0.99      0.99      0.99       135\n",
      "\n",
      "    accuracy                           0.99       400\n",
      "   macro avg       0.99      0.99      0.99       400\n",
      "weighted avg       0.99      0.99      0.99       400\n",
      "\n"
     ]
    }
   ],
   "source": [
    "print('classification report',classification_report(forest_pred,y_test))"
   ]
  },
  {
   "cell_type": "raw",
   "id": "531a01ec",
   "metadata": {
    "scrolled": true
   },
   "source": [
    "fig = plt.figure(figsize=(15, 10))\n",
    "_ = plot_tree(rfc.estimators_[8], \n",
    "          feature_names=cols[:-1],\n",
    "          class_names=cols[-1], \n",
    "          filled=True, impurity=True, \n",
    "          rounded=True) # 10th tree in randomforest"
   ]
  },
  {
   "cell_type": "markdown",
   "id": "416c3eac",
   "metadata": {},
   "source": [
    "# Select Vector Machine"
   ]
  },
  {
   "cell_type": "code",
   "execution_count": 79,
   "id": "669d066a",
   "metadata": {},
   "outputs": [],
   "source": [
    "svc=SVC()"
   ]
  },
  {
   "cell_type": "code",
   "execution_count": 80,
   "id": "2ab86916",
   "metadata": {},
   "outputs": [
    {
     "data": {
      "text/plain": [
       "SVC()"
      ]
     },
     "execution_count": 80,
     "metadata": {},
     "output_type": "execute_result"
    }
   ],
   "source": [
    "svc.fit(X_train_scale,y_train)"
   ]
  },
  {
   "cell_type": "code",
   "execution_count": 81,
   "id": "35a27786",
   "metadata": {},
   "outputs": [],
   "source": [
    "svm_pred=svc.predict(X_test_scale)"
   ]
  },
  {
   "cell_type": "code",
   "execution_count": 82,
   "id": "ac95f61e",
   "metadata": {},
   "outputs": [],
   "source": [
    "svc_cm=confusion_matrix(svm_pred,y_test)"
   ]
  },
  {
   "cell_type": "code",
   "execution_count": 83,
   "id": "244d4bdc",
   "metadata": {},
   "outputs": [
    {
     "name": "stdout",
     "output_type": "stream",
     "text": [
      "accuracy score 0.835\n"
     ]
    }
   ],
   "source": [
    "print('accuracy score',accuracy_score(svm_pred,y_test))"
   ]
  },
  {
   "cell_type": "code",
   "execution_count": 84,
   "id": "863ae0de",
   "metadata": {},
   "outputs": [],
   "source": [
    "# model evaluation"
   ]
  },
  {
   "cell_type": "code",
   "execution_count": 85,
   "id": "7b652f7c",
   "metadata": {},
   "outputs": [
    {
     "data": {
      "text/plain": [
       "<AxesSubplot:>"
      ]
     },
     "execution_count": 85,
     "metadata": {},
     "output_type": "execute_result"
    },
    {
     "data": {
      "image/png": "[encoded data removed]",
      "text/plain": [
       "<Figure size 432x288 with 2 Axes>"
      ]
     },
     "metadata": {},
     "output_type": "display_data"
    }
   ],
   "source": [
    "svm_conf_mat=confusion_matrix(svm_pred,y_test)\n",
    "sns.heatmap(svm_conf_mat,annot=True,fmt='d')"
   ]
  },
  {
   "cell_type": "code",
   "execution_count": 86,
   "id": "d381c8be",
   "metadata": {},
   "outputs": [
    {
     "name": "stdout",
     "output_type": "stream",
     "text": [
      "classification_report               precision    recall  f1-score   support\n",
      "\n",
      "         0.0       0.90      0.86      0.88       277\n",
      "         1.0       0.71      0.78      0.74       123\n",
      "\n",
      "    accuracy                           0.83       400\n",
      "   macro avg       0.80      0.82      0.81       400\n",
      "weighted avg       0.84      0.83      0.84       400\n",
      "\n"
     ]
    }
   ],
   "source": [
    "print('classification_report',classification_report(svm_pred,y_test))"
   ]
  },
  {
   "cell_type": "code",
   "execution_count": 87,
   "id": "3417f387",
   "metadata": {},
   "outputs": [
    {
     "data": {
      "text/plain": [
       "GaussianNB()"
      ]
     },
     "execution_count": 87,
     "metadata": {},
     "output_type": "execute_result"
    }
   ],
   "source": [
    "nbias=GaussianNB()\n",
    "nbias.fit(X_train_scale,y_train)"
   ]
  },
  {
   "cell_type": "code",
   "execution_count": 88,
   "id": "1dafa9a4",
   "metadata": {},
   "outputs": [],
   "source": [
    "nbias_pred=nbias.predict(X_test_scale)"
   ]
  },
  {
   "cell_type": "code",
   "execution_count": 89,
   "id": "1675050f",
   "metadata": {},
   "outputs": [
    {
     "name": "stdout",
     "output_type": "stream",
     "text": [
      "accuracy_score 76.75\n"
     ]
    }
   ],
   "source": [
    "print('accuracy_score',accuracy_score(nbias_pred,y_test)*100)"
   ]
  },
  {
   "cell_type": "markdown",
   "id": "f51b1127",
   "metadata": {},
   "source": [
    "# NaviaBias Algorithm"
   ]
  },
  {
   "cell_type": "code",
   "execution_count": 90,
   "id": "4b5a3277",
   "metadata": {},
   "outputs": [
    {
     "data": {
      "text/plain": [
       "<AxesSubplot:>"
      ]
     },
     "execution_count": 90,
     "metadata": {},
     "output_type": "execute_result"
    },
    {
     "data": {
      "image/png": "[encoded data removed]",
      "text/plain": [
       "<Figure size 432x288 with 2 Axes>"
      ]
     },
     "metadata": {},
     "output_type": "display_data"
    }
   ],
   "source": [
    "nbias_cm=confusion_matrix(nbias_pred,y_test)\n",
    "sns.heatmap(nbias_cm,annot=True,fmt='d')"
   ]
  },
  {
   "cell_type": "code",
   "execution_count": 91,
   "id": "07a97f67",
   "metadata": {},
   "outputs": [
    {
     "name": "stdout",
     "output_type": "stream",
     "text": [
      "correct_prediction: 307\n",
      "incorrect_prediction: 93\n",
      "Correct Score Percentage 77.0%\n",
      "Incorrect Score Percentage:\t23.0 %\n"
     ]
    }
   ],
   "source": [
    "correct_prediction_nbis=(nbias_cm[1][1]+nbias_cm[0][0])\n",
    "incorrect_predictions_nbis=((nbias_cm[0][1]+nbias_cm[1][0]))\n",
    "print('correct_prediction:',correct_prediction_nbis)\n",
    "print('incorrect_prediction:',incorrect_predictions_nbis)\n",
    "\n",
    "# Average\n",
    "print('Correct Score Percentage',str(round(correct_prediction_nbis/np.sum(nbias_cm),2)*100)+ '%')\n",
    "print(\"Incorrect Score Percentage:\\t\" + str(round(incorrect_predictions_nbis/np.sum(nbias_cm),2)*100) + \" %\")\n"
   ]
  },
  {
   "cell_type": "code",
   "execution_count": 92,
   "id": "e41a8da7",
   "metadata": {},
   "outputs": [
    {
     "name": "stdout",
     "output_type": "stream",
     "text": [
      "clssreport               precision    recall  f1-score   support\n",
      "\n",
      "         0.0       0.83      0.82      0.82       266\n",
      "         1.0       0.65      0.66      0.65       134\n",
      "\n",
      "    accuracy                           0.77       400\n",
      "   macro avg       0.74      0.74      0.74       400\n",
      "weighted avg       0.77      0.77      0.77       400\n",
      "\n"
     ]
    }
   ],
   "source": [
    "print('clssreport',classification_report(nbias_pred,y_test))"
   ]
  },
  {
   "cell_type": "markdown",
   "id": "f7622951",
   "metadata": {},
   "source": [
    "# Gradient Boosting Classifier"
   ]
  },
  {
   "cell_type": "code",
   "execution_count": 93,
   "id": "63c7c405",
   "metadata": {},
   "outputs": [
    {
     "data": {
      "text/plain": [
       "GradientBoostingClassifier()"
      ]
     },
     "execution_count": 93,
     "metadata": {},
     "output_type": "execute_result"
    }
   ],
   "source": [
    "GBC = GradientBoostingClassifier()\n",
    "GBC.fit(X_train_scale,y_train)"
   ]
  },
  {
   "cell_type": "code",
   "execution_count": 94,
   "id": "d9121cdc",
   "metadata": {},
   "outputs": [],
   "source": [
    "gbc_pred=GBC.predict(X_test_scale)"
   ]
  },
  {
   "cell_type": "code",
   "execution_count": 95,
   "id": "80c28567",
   "metadata": {},
   "outputs": [
    {
     "name": "stdout",
     "output_type": "stream",
     "text": [
      "accuracy_score 0.7675\n"
     ]
    }
   ],
   "source": [
    "print('accuracy_score',accuracy_score(nbias_pred,y_test))"
   ]
  },
  {
   "cell_type": "code",
   "execution_count": 96,
   "id": "f2a09bc2",
   "metadata": {},
   "outputs": [
    {
     "data": {
      "text/plain": [
       "array([[242,  23],\n",
       "       [ 24, 111]], dtype=int64)"
      ]
     },
     "execution_count": 96,
     "metadata": {},
     "output_type": "execute_result"
    }
   ],
   "source": [
    "\n",
    "gbc_conf_mat = confusion_matrix(y_test, gbc_pred)\n",
    "gbc_conf_mat"
   ]
  },
  {
   "cell_type": "code",
   "execution_count": 97,
   "id": "b245620e",
   "metadata": {},
   "outputs": [
    {
     "name": "stdout",
     "output_type": "stream",
     "text": [
      "accuracy_score 88.25\n"
     ]
    }
   ],
   "source": [
    "print('accuracy_score',accuracy_score(gbc_pred,y_test)*100)"
   ]
  },
  {
   "cell_type": "code",
   "execution_count": null,
   "id": "4ffd27df",
   "metadata": {},
   "outputs": [],
   "source": []
  },
  {
   "cell_type": "code",
   "execution_count": 98,
   "id": "82377e76",
   "metadata": {},
   "outputs": [],
   "source": [
    "score_df = pd.DataFrame()\n",
    "score_df['Model'] = pd.Series(['Logistic Regression','KNN','DecisionTrees','RandomForest',\n",
    "                               'SVM','GradientBoostingClassifier'])\n",
    "score_df['Recall'] = pd.Series([calculate_recall(conf_mat[0][0],conf_mat[0][1]),\n",
    "                               calculate_recall(knn_conf_mat[0][0],knn_conf_mat[0][1]),\n",
    "                               calculate_recall(tree_conf_mat[0][0],tree_conf_mat[0][1]),\n",
    "                                calculate_recall(forest_conf_mat[0][0],forest_conf_mat[0][1]),\n",
    "                                calculate_recall(svm_conf_mat[0][0],svm_conf_mat[0][1]),\n",
    "                                calculate_recall(gbc_conf_mat[0][0],gbc_conf_mat[0][1]),\n",
    "                               ])\n",
    "score_df[\"Precision\"] = pd.Series([\n",
    "                           calculate_precision(conf_mat[0][0],conf_mat[1][0]), \n",
    "                            calculate_precision(knn_conf_mat[0][0],knn_conf_mat[1][0]), \n",
    "                            calculate_precision(tree_conf_mat[0][0],tree_conf_mat[1][0]), \n",
    "                            calculate_precision(forest_conf_mat[0][0],forest_conf_mat[1][0]), \n",
    "                            calculate_precision(svm_conf_mat[0][0],svm_conf_mat[1][0]), \n",
    "                            calculate_precision(gbc_conf_mat[0][0],gbc_conf_mat[1][0]), \n",
    "])\n",
    "\n",
    "\n",
    "score_df['F1 Score'] = calculte_f1score(score_df['Precision'],score_df['Recall'])\n",
    "score_df['Specificity Score'] = pd.Series([\n",
    "                        calculate_specificity(conf_mat[1][1],conf_mat[1][0]),\n",
    "                        calculate_specificity(knn_conf_mat[1][1],knn_conf_mat[1][0]),\n",
    "                        calculate_specificity(tree_conf_mat[1][1],tree_conf_mat[1][0]),\n",
    "                        calculate_specificity(forest_conf_mat[1][1],forest_conf_mat[1][0]),\n",
    "                        calculate_specificity(svm_conf_mat[1][1],svm_conf_mat[1][0]),\n",
    "                        calculate_specificity(gbc_conf_mat[1][1],gbc_conf_mat[1][0])\n",
    "])\n",
    "\n",
    "score_df['Accuracy'] = pd.Series([\n",
    "    accuracy_score(y_test,y_pred)*100,\n",
    "    accuracy_score(y_test,knn_pred)*100,\n",
    "    accuracy_score(y_test,tree_pred)*100,\n",
    "    accuracy_score(y_test,forest_pred)*100,\n",
    "    accuracy_score(y_test,svm_pred)*100,\n",
    "    accuracy_score(y_test,gbc_pred)*100\n",
    "    \n",
    "])\n"
   ]
  },
  {
   "cell_type": "code",
   "execution_count": 99,
   "id": "d3140079",
   "metadata": {},
   "outputs": [
    {
     "data": {
      "text/html": [
       "<div>\n",
       "<style scoped>\n",
       "    .dataframe tbody tr th:only-of-type {\n",
       "        vertical-align: middle;\n",
       "    }\n",
       "\n",
       "    .dataframe tbody tr th {\n",
       "        vertical-align: top;\n",
       "    }\n",
       "\n",
       "    .dataframe thead th {\n",
       "        text-align: right;\n",
       "    }\n",
       "</style>\n",
       "<table border=\"1\" class=\"dataframe\">\n",
       "  <thead>\n",
       "    <tr style=\"text-align: right;\">\n",
       "      <th></th>\n",
       "      <th>Model</th>\n",
       "      <th>Recall</th>\n",
       "      <th>Precision</th>\n",
       "      <th>F1 Score</th>\n",
       "      <th>Specificity Score</th>\n",
       "      <th>Accuracy</th>\n",
       "    </tr>\n",
       "  </thead>\n",
       "  <tbody>\n",
       "    <tr>\n",
       "      <th>0</th>\n",
       "      <td>Logistic Regression</td>\n",
       "      <td>54.0</td>\n",
       "      <td>31.0</td>\n",
       "      <td>39.388235</td>\n",
       "      <td>31.0</td>\n",
       "      <td>79.25</td>\n",
       "    </tr>\n",
       "    <tr>\n",
       "      <th>1</th>\n",
       "      <td>KNN</td>\n",
       "      <td>50.0</td>\n",
       "      <td>46.0</td>\n",
       "      <td>47.916667</td>\n",
       "      <td>46.0</td>\n",
       "      <td>76.50</td>\n",
       "    </tr>\n",
       "    <tr>\n",
       "      <th>2</th>\n",
       "      <td>DecisionTrees</td>\n",
       "      <td>59.0</td>\n",
       "      <td>31.0</td>\n",
       "      <td>40.644444</td>\n",
       "      <td>31.0</td>\n",
       "      <td>78.00</td>\n",
       "    </tr>\n",
       "    <tr>\n",
       "      <th>3</th>\n",
       "      <td>RandomForest</td>\n",
       "      <td>3.0</td>\n",
       "      <td>3.0</td>\n",
       "      <td>3.000000</td>\n",
       "      <td>3.0</td>\n",
       "      <td>99.00</td>\n",
       "    </tr>\n",
       "    <tr>\n",
       "      <th>4</th>\n",
       "      <td>SVM</td>\n",
       "      <td>40.0</td>\n",
       "      <td>28.0</td>\n",
       "      <td>32.941176</td>\n",
       "      <td>28.0</td>\n",
       "      <td>83.50</td>\n",
       "    </tr>\n",
       "    <tr>\n",
       "      <th>5</th>\n",
       "      <td>GradientBoostingClassifier</td>\n",
       "      <td>24.0</td>\n",
       "      <td>25.0</td>\n",
       "      <td>24.489796</td>\n",
       "      <td>25.0</td>\n",
       "      <td>88.25</td>\n",
       "    </tr>\n",
       "  </tbody>\n",
       "</table>\n",
       "</div>"
      ],
      "text/plain": [
       "                        Model  Recall  Precision   F1 Score  \\\n",
       "0         Logistic Regression    54.0       31.0  39.388235   \n",
       "1                         KNN    50.0       46.0  47.916667   \n",
       "2               DecisionTrees    59.0       31.0  40.644444   \n",
       "3                RandomForest     3.0        3.0   3.000000   \n",
       "4                         SVM    40.0       28.0  32.941176   \n",
       "5  GradientBoostingClassifier    24.0       25.0  24.489796   \n",
       "\n",
       "   Specificity Score  Accuracy  \n",
       "0               31.0     79.25  \n",
       "1               46.0     76.50  \n",
       "2               31.0     78.00  \n",
       "3                3.0     99.00  \n",
       "4               28.0     83.50  \n",
       "5               25.0     88.25  "
      ]
     },
     "execution_count": 99,
     "metadata": {},
     "output_type": "execute_result"
    }
   ],
   "source": [
    "score_df\n"
   ]
  },
  {
   "cell_type": "code",
   "execution_count": 104,
   "id": "bd6e11aa",
   "metadata": {},
   "outputs": [
    {
     "data": {
      "text/plain": [
       "<AxesSubplot:>"
      ]
     },
     "execution_count": 104,
     "metadata": {},
     "output_type": "execute_result"
    },
    {
     "data": {
      "image/png": "[encoded data removed]",
      "text/plain": [
       "<Figure size 432x288 with 1 Axes>"
      ]
     },
     "metadata": {},
     "output_type": "display_data"
    }
   ],
   "source": [
    "score_df.plot(kind='bar')"
   ]
  }
 ],
 "metadata": {
  "kernelspec": {
   "display_name": "Python 3 (ipykernel)",
   "language": "python",
   "name": "python3"
  },
  "language_info": {
   "codemirror_mode": {
    "name": "ipython",
    "version": 3
   },
   "file_extension": ".py",
   "mimetype": "text/x-python",
   "name": "python",
   "nbconvert_exporter": "python",
   "pygments_lexer": "ipython3",
   "version": "3.10.9"
  }
 },
 "nbformat": 4,
 "nbformat_minor": 5
}
